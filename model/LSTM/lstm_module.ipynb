{
 "cells": [
  {
   "cell_type": "code",
   "execution_count": 1,
   "id": "8b542990",
   "metadata": {},
   "outputs": [
    {
     "name": "stderr",
     "output_type": "stream",
     "text": [
      "E:\\anaconda\\envs\\data_mining\\lib\\site-packages\\tqdm\\auto.py:22: TqdmWarning: IProgress not found. Please update jupyter and ipywidgets. See https://ipywidgets.readthedocs.io/en/stable/user_install.html\n",
      "  from .autonotebook import tqdm as notebook_tqdm\n"
     ]
    }
   ],
   "source": [
    "import torch\n",
    " \n",
    "import os\n",
    "import numpy as np\n",
    "import pandas as pd\n",
    "from tqdm import tqdm\n",
    "import matplotlib.pyplot as plt\n",
    "from matplotlib import rc\n",
    "from sklearn.preprocessing import MinMaxScaler\n",
    "from pandas.plotting import register_matplotlib_converters\n",
    "from torch import nn, optim\n",
    "import json\n",
    "import copy"
   ]
  },
  {
   "cell_type": "code",
   "execution_count": 2,
   "id": "0a442624",
   "metadata": {},
   "outputs": [
    {
     "data": {
      "text/html": [
       "<div>\n",
       "<style scoped>\n",
       "    .dataframe tbody tr th:only-of-type {\n",
       "        vertical-align: middle;\n",
       "    }\n",
       "\n",
       "    .dataframe tbody tr th {\n",
       "        vertical-align: top;\n",
       "    }\n",
       "\n",
       "    .dataframe thead th {\n",
       "        text-align: right;\n",
       "    }\n",
       "</style>\n",
       "<table border=\"1\" class=\"dataframe\">\n",
       "  <thead>\n",
       "    <tr style=\"text-align: right;\">\n",
       "      <th></th>\n",
       "      <th>confirmedIncr</th>\n",
       "    </tr>\n",
       "    <tr>\n",
       "      <th>dateId</th>\n",
       "      <th></th>\n",
       "    </tr>\n",
       "  </thead>\n",
       "  <tbody>\n",
       "    <tr>\n",
       "      <th>2020-01-20</th>\n",
       "      <td>1</td>\n",
       "    </tr>\n",
       "    <tr>\n",
       "      <th>2020-01-21</th>\n",
       "      <td>8</td>\n",
       "    </tr>\n",
       "    <tr>\n",
       "      <th>2020-01-22</th>\n",
       "      <td>7</td>\n",
       "    </tr>\n",
       "    <tr>\n",
       "      <th>2020-01-23</th>\n",
       "      <td>4</td>\n",
       "    </tr>\n",
       "    <tr>\n",
       "      <th>2020-01-24</th>\n",
       "      <td>13</td>\n",
       "    </tr>\n",
       "  </tbody>\n",
       "</table>\n",
       "</div>"
      ],
      "text/plain": [
       "            confirmedIncr\n",
       "dateId                   \n",
       "2020-01-20              1\n",
       "2020-01-21              8\n",
       "2020-01-22              7\n",
       "2020-01-23              4\n",
       "2020-01-24             13"
      ]
     },
     "execution_count": 2,
     "metadata": {},
     "output_type": "execute_result"
    }
   ],
   "source": [
    "\n",
    "pd.set_option('display.min_rows',100)  \n",
    "path = '..\\..\\dataset\\data_xyz\\provinceData\\上海市.json' ##记得改\n",
    "fr = open(path, 'r', encoding='utf-8')\n",
    "json_info = fr.read()\n",
    "fr.close()\n",
    "data_dict = json.loads(json_info)\n",
    "data = pd.DataFrame(data_dict['data'])\n",
    "data = data[['confirmedIncr', 'dateId']]\n",
    "data['dateId'] = data['dateId'].astype(str)\n",
    "data['dateId'] = pd.to_datetime(data['dateId'], format='%Y%m%d')\n",
    "data.index = data['dateId']\n",
    "data = data.set_index('dateId', drop=True)\n",
    "data_size = int(len(data)*0.7)\n",
    "test_set = data[-data_size:]\n",
    "train_set = data[:data_size]\n",
    "test_set = data[-(len(data)-len(train_set)):]\n",
    "temp =copy.deepcopy(test_set)\n",
    "train_set.head()"
   ]
  },
  {
   "cell_type": "code",
   "execution_count": 3,
   "id": "35335037",
   "metadata": {},
   "outputs": [
    {
     "name": "stderr",
     "output_type": "stream",
     "text": [
      "E:\\anaconda\\envs\\data_mining\\lib\\site-packages\\pandas\\plotting\\_matplotlib\\converter.py:103: FutureWarning: Using an implicitly registered datetime converter for a matplotlib plotting method. The converter was registered by pandas on import. Future versions of pandas will require you to explicitly register matplotlib converters.\n",
      "\n",
      "To register the converters:\n",
      "\t>>> from pandas.plotting import register_matplotlib_converters\n",
      "\t>>> register_matplotlib_converters()\n",
      "  warnings.warn(msg, FutureWarning)\n"
     ]
    },
    {
     "data": {
      "image/png": "[encoded data removed]",
      "text/plain": [
       "<Figure size 432x288 with 1 Axes>"
      ]
     },
     "metadata": {
      "needs_background": "light"
     },
     "output_type": "display_data"
    }
   ],
   "source": [
    "plt.plot(train_set)\n",
    "plt.title(\"Daily cases\");"
   ]
  },
  {
   "cell_type": "code",
   "execution_count": 4,
   "id": "2ab313d4",
   "metadata": {},
   "outputs": [
    {
     "data": {
      "text/plain": [
       "'\\nprint(train_set.values.shape)\\nscaler = MinMaxScaler()\\nscaler = scaler.fit(np.expand_dims(train_set, axis=1))\\n \\ntrain_data = scaler.transform(np.expand_dims(train_set, axis=1))\\ntest_data = scaler.transform(np.expand_dims(test_set, axis=1))\\n\\n\\n'"
      ]
     },
     "execution_count": 4,
     "metadata": {},
     "output_type": "execute_result"
    }
   ],
   "source": [
    "\n",
    "scaler = MinMaxScaler()\n",
    "train_set = scaler.fit_transform(train_set)\n",
    "test_set = scaler.fit_transform(test_set)\n",
    "\n",
    "\"\"\"\n",
    "print(train_set.values.shape)\n",
    "scaler = MinMaxScaler()\n",
    "scaler = scaler.fit(np.expand_dims(train_set, axis=1))\n",
    " \n",
    "train_data = scaler.transform(np.expand_dims(train_set, axis=1))\n",
    "test_data = scaler.transform(np.expand_dims(test_set, axis=1))\n",
    "\n",
    "\n",
    "\"\"\"\n"
   ]
  },
  {
   "cell_type": "code",
   "execution_count": 5,
   "id": "d86ab58c",
   "metadata": {},
   "outputs": [],
   "source": [
    "def create_sequences(data, seq_length):\n",
    "    xs = []\n",
    "    ys = []\n",
    " \n",
    "    for i in range(len(data)-seq_length-1):\n",
    "        x = data[i:(i+seq_length)]\n",
    "        y = data[i+seq_length]\n",
    "        xs.append(x)\n",
    "        ys.append(y)\n",
    " \n",
    "    return np.array(xs), np.array(ys)\n",
    " \n",
    "seq_length = 7\n",
    "X_train, y_train = create_sequences(train_set, seq_length)\n",
    "X_test, y_test = create_sequences(test_set, seq_length)\n",
    " \n",
    "X_train = torch.from_numpy(X_train).float()\n",
    "y_train = torch.from_numpy(y_train).float()\n",
    " \n",
    "X_test = torch.from_numpy(X_test).float()\n",
    "y_test = torch.from_numpy(y_test).float()\n"
   ]
  },
  {
   "cell_type": "code",
   "execution_count": 6,
   "id": "b8e446bc",
   "metadata": {},
   "outputs": [],
   "source": [
    "class CoronaVirusPredictor(nn.Module):\n",
    " \n",
    "    def __init__(self, n_features, n_hidden, seq_len, n_layers=2):\n",
    "        super(CoronaVirusPredictor, self).__init__()\n",
    " \n",
    "        self.n_hidden = n_hidden\n",
    "        self.seq_len = seq_len\n",
    "        self.n_layers = n_layers\n",
    " \n",
    "        self.lstm = nn.LSTM(\n",
    "          input_size=n_features,\n",
    "          hidden_size=n_hidden,\n",
    "          num_layers=n_layers,\n",
    "          dropout=0.5\n",
    "        )\n",
    " \n",
    "        self.linear = nn.Linear(in_features=n_hidden, out_features=1)\n",
    " \n",
    "    def reset_hidden_state(self):\n",
    "        self.hidden = (\n",
    "            torch.zeros(self.n_layers, self.seq_len, self.n_hidden),\n",
    "            torch.zeros(self.n_layers, self.seq_len, self.n_hidden)\n",
    "        )\n",
    " \n",
    "    def forward(self, sequences):\n",
    "        lstm_out, self.hidden = self.lstm(\n",
    "          sequences.view(len(sequences), self.seq_len, -1),\n",
    "          self.hidden\n",
    "        )\n",
    "        last_time_step = \\\n",
    "          lstm_out.view(self.seq_len, len(sequences), self.n_hidden)[-1]\n",
    "        y_pred = self.linear(last_time_step)\n",
    "        return y_pred"
   ]
  },
  {
   "cell_type": "code",
   "execution_count": 7,
   "id": "875f4de3",
   "metadata": {},
   "outputs": [],
   "source": [
    "def train_model(\n",
    "      model, \n",
    "      train_data, \n",
    "      train_labels, \n",
    "      test_data=None, \n",
    "      test_labels=None\n",
    "    ):\n",
    "    loss_fn = torch.nn.MSELoss(reduction='sum')\n",
    " \n",
    "    optimiser = torch.optim.Adam(model.parameters(), lr=1e-3)\n",
    "    num_epochs =100\n",
    " \n",
    "    train_hist = np.zeros(num_epochs)\n",
    "    test_hist = np.zeros(num_epochs)\n",
    " \n",
    "    for t in range(num_epochs):\n",
    "        model.reset_hidden_state()\n",
    "        y_pred = model(X_train)\n",
    "        loss = loss_fn(y_pred.float(), y_train)\n",
    "        if test_data is not None:\n",
    "            with torch.no_grad():\n",
    "                y_test_pred = model(X_test)\n",
    "                test_loss = loss_fn(y_test_pred.float(), y_test)\n",
    "            test_hist[t] = test_loss.item()\n",
    " \n",
    "            if t % 10 == 0:  \n",
    "                print(f'Epoch {t} train loss: {loss.item()} test loss: {test_loss.item()}')\n",
    "        elif t % 10 == 0:\n",
    "            print(f'Epoch {t} train loss: {loss.item()}')\n",
    " \n",
    "        train_hist[t] = loss.item()\n",
    "        optimiser.zero_grad()\n",
    "        loss.backward()\n",
    "        optimiser.step()\n",
    " \n",
    "    return model.eval(), train_hist, test_hist"
   ]
  },
  {
   "cell_type": "code",
   "execution_count": 8,
   "id": "5463fa3a",
   "metadata": {},
   "outputs": [
    {
     "name": "stdout",
     "output_type": "stream",
     "text": [
      "Epoch 0 train loss: 8.03943157196045 test loss: 4.404657363891602\n",
      "Epoch 10 train loss: 4.878168106079102 test loss: 4.750375270843506\n",
      "Epoch 20 train loss: 4.78985595703125 test loss: 4.227008819580078\n",
      "Epoch 30 train loss: 4.766040802001953 test loss: 4.454812049865723\n",
      "Epoch 40 train loss: 4.743781566619873 test loss: 4.35930061340332\n",
      "Epoch 50 train loss: 4.743126392364502 test loss: 4.355146408081055\n",
      "Epoch 60 train loss: 4.741468906402588 test loss: 4.381479263305664\n",
      "Epoch 70 train loss: 4.74247407913208 test loss: 4.3349151611328125\n",
      "Epoch 80 train loss: 4.743897914886475 test loss: 4.33492374420166\n",
      "Epoch 90 train loss: 4.731810092926025 test loss: 4.317407608032227\n"
     ]
    }
   ],
   "source": [
    "model = CoronaVirusPredictor(\n",
    "  n_features=1, \n",
    "  n_hidden=512, \n",
    "  seq_len=seq_length, \n",
    "  n_layers=2\n",
    ")\n",
    "model, train_hist, test_hist = train_model(\n",
    "  model, \n",
    "  X_train, \n",
    "  y_train, \n",
    "  X_test, \n",
    "  y_test\n",
    ")"
   ]
  },
  {
   "cell_type": "code",
   "execution_count": null,
   "id": "b5591116",
   "metadata": {},
   "outputs": [],
   "source": []
  },
  {
   "cell_type": "code",
   "execution_count": 9,
   "id": "fa84e166",
   "metadata": {},
   "outputs": [],
   "source": [
    "with torch.no_grad():\n",
    "    i =0\n",
    "    test_seq = X_test[i:i+1]\n",
    "    \n",
    "    preds = []\n",
    "    \n",
    "    for _ in range(len(X_test)):\n",
    "        test_seq = X_test[i:i+1]\n",
    "        y_test_pred = model(test_seq)\n",
    "        pred = torch.flatten(y_test_pred).item()\n",
    "        preds.append(pred)\n",
    "        i+=1\n",
    "##        new_seq = test_seq.numpy().flatten()\n",
    "##        new_seq = np.append(new_seq, [pred])\n",
    "##        new_seq = new_seq[1:]\n",
    "##       test_seq = torch.as_tensor(new_seq).view(1, seq_length, 1).float()"
   ]
  },
  {
   "cell_type": "code",
   "execution_count": 10,
   "id": "cbb1f913",
   "metadata": {},
   "outputs": [],
   "source": [
    "\n",
    "true_cases = scaler.inverse_transform(\n",
    "    np.expand_dims(y_test.flatten().numpy(), axis=0)\n",
    ").flatten()\n",
    "\n",
    "predicted_cases = scaler.inverse_transform(\n",
    "  np.expand_dims(preds, axis=0)\n",
    ").flatten()\n"
   ]
  },
  {
   "cell_type": "code",
   "execution_count": 11,
   "id": "bdfd238b",
   "metadata": {},
   "outputs": [
    {
     "data": {
      "image/png": "[encoded data removed]",
      "text/plain": [
       "<Figure size 432x288 with 1 Axes>"
      ]
     },
     "metadata": {
      "needs_background": "light"
     },
     "output_type": "display_data"
    }
   ],
   "source": [
    "plt.plot(\n",
    "  data.index[:len(train_set)], \n",
    "  data[:len(train_set)],\n",
    "  label='Historical Daily Cases')\n",
    "plt.plot(\n",
    "  data.index[len(train_set):len(train_set) + len(true_cases)], \n",
    "   data[len(train_set):len(train_set) + len(true_cases)],\n",
    "  label='Real Daily Cases')\n",
    "plt.plot(\n",
    " data.index[len(train_set):len(train_set) + len(true_cases)], \n",
    "  predicted_cases, \n",
    "  label='Predicted Daily Cases')\n",
    " \n",
    "plt.legend();"
   ]
  },
  {
   "cell_type": "code",
   "execution_count": 12,
   "id": "277357a0",
   "metadata": {},
   "outputs": [
    {
     "name": "stdout",
     "output_type": "stream",
     "text": [
      "            confirmedIncr\n",
      "dateId                   \n",
      "2021-09-08              2\n",
      "2021-09-09              4\n",
      "2021-09-10              2\n",
      "2021-09-11              3\n",
      "2021-09-12              5\n",
      "2021-09-13              0\n",
      "2021-09-14              6\n",
      "2021-09-15              4\n",
      "2021-09-16              1\n",
      "2021-09-17              2\n",
      "2021-09-18              2\n",
      "2021-09-19              4\n",
      "2021-09-20              0\n",
      "2021-09-21             12\n",
      "2021-09-22              2\n",
      "2021-09-23              9\n",
      "2021-09-24              0\n",
      "2021-09-25              8\n",
      "2021-09-26              1\n",
      "2021-09-27              0\n",
      "2021-09-28              2\n",
      "2021-09-29              3\n",
      "2021-09-30              5\n",
      "2021-10-01              9\n",
      "2021-10-02              0\n",
      "2021-10-03             10\n",
      "2021-10-04              6\n",
      "2021-10-05              4\n",
      "2021-10-06              4\n",
      "2021-10-07              8\n",
      "...                   ...\n",
      "2022-04-08           1017\n",
      "2022-04-09           1015\n",
      "2022-04-10            917\n",
      "2022-04-11            998\n",
      "2022-04-12           1190\n",
      "2022-04-13           2573\n",
      "2022-04-14           3200\n",
      "2022-04-15           3594\n",
      "2022-04-16           3240\n",
      "2022-04-17           2420\n",
      "2022-04-18           3084\n",
      "2022-04-19           2495\n",
      "2022-04-20           2635\n",
      "2022-04-21           1931\n",
      "2022-04-22           2736\n",
      "2022-04-23           1401\n",
      "2022-04-24           2472\n",
      "2022-04-25           1661\n",
      "2022-04-26           1606\n",
      "2022-04-27           1292\n",
      "2022-04-28           5489\n",
      "2022-04-29           1250\n",
      "2022-04-30            789\n",
      "2022-05-01            729\n",
      "2022-05-02            274\n",
      "2022-05-03            263\n",
      "2022-05-04            263\n",
      "2022-05-05              0\n",
      "2022-05-06            498\n",
      "2022-05-07            217\n",
      "\n",
      "[242 rows x 1 columns]\n",
      "[461.44614562 458.3360686  458.02803814 458.10475948 458.18262592\n",
      " 458.20663201 458.27038924 458.16847582 458.25554391 458.21415692\n",
      " 458.30089784 458.24118933 458.2979942  458.32608992 458.30817737\n",
      " 458.28977406 458.26351868 458.21513843 458.3023292  458.2209048\n",
      " 458.23992155 458.27124806 458.27926373 458.23660895 458.28956958\n",
      " 458.26208731 458.28445755 458.29079647 458.3013477  458.3132894\n",
      " 458.31451628 458.2806951  458.26057415 458.24687391 458.25648452\n",
      " 458.23967617 458.24703749 458.293741   458.2947634  458.28102227\n",
      " 458.30854543 458.30449671 458.30102053 458.32069162 458.29271859\n",
      " 458.26253717 458.21370706 458.20479168 458.25075905 458.26531811\n",
      " 458.28895614 458.29357741 458.29230963 458.2903875  458.25681169\n",
      " 458.29100095 458.29063288 458.27787326 458.25284476 458.26887608\n",
      " 458.26417302 458.26278254 458.29517236 458.31402553 458.26261896\n",
      " 458.23701791 458.30883171 458.26445929 458.22814343 458.28597071\n",
      " 458.27108448 458.24315235 458.30118411 458.27439708 458.26421391\n",
      " 458.25182235 458.31398463 458.29791241 458.26830354 458.25002292\n",
      " 458.24732377 458.27018476 458.26621783 458.2643366  458.22119107\n",
      " 458.2860934  458.31594765 458.26584976 458.22879777 458.25427613\n",
      " 458.25304924 458.28441665 458.30306534 458.29447713 458.1827895\n",
      " 458.14467421 458.12254935 458.24184367 458.2763192  458.2143614\n",
      " 458.22757088 458.15829266 458.10901269 458.17780016 458.2328465\n",
      " 458.21182583 458.1383353  458.20638663 458.21726503 458.13072859\n",
      " 458.02259894 457.97066072 458.09821609 458.10655892 458.06161395\n",
      " 457.96456718 457.96628483 458.01900008 458.0252981  458.10099703\n",
      " 458.00125111 457.96080473 457.83868857 458.01830484 457.95581539\n",
      " 458.12598463 458.19133682 458.20487347 458.04705489 458.06603075\n",
      " 458.17432398 458.10373708 458.19653064 458.23166051 458.11449279\n",
      " 458.23035183 458.23137423 458.22360395 458.21841013 458.1295835\n",
      " 458.10725415 458.20475078 458.25378537 458.26036967 458.20282866\n",
      " 458.22855239 458.16180974 458.20843145 458.23489131 458.19644885\n",
      " 458.23844928 458.22900225 458.23452324 458.25693438 458.18622479\n",
      " 458.20978102 458.17706403 458.11539251 458.05012211 457.99826568\n",
      " 457.94113364 457.75444232 457.98845059 457.69068509 457.65539163\n",
      " 457.80008252 457.82727852 457.87459546 457.92841491 458.33447365\n",
      " 457.49254282 457.89876514 458.06803466 457.9861604  457.89753825\n",
      " 457.9937671  457.83917932 457.82797375 458.00689479 458.1937088\n",
      " 457.76597506 458.03061461 458.1828713  458.12013647 457.61735813\n",
      " 457.99818389 458.1045959  457.91091132 457.87516801 458.14496049\n",
      " 458.21509753 457.92387543 458.28089958 457.30945037 457.48227786\n",
      " 457.08901965 454.63046058 453.78067767 453.73057978 455.00392501\n",
      " 458.2360773  449.59584754 453.7824771  454.91002725 454.92830787\n",
      " 449.51826738 446.17798544 445.82746379 447.25449708 447.02118405\n",
      " 445.00663542 429.85973258 419.77868749 414.5479361  418.57588827\n",
      " 429.61136973 425.68946151 430.62441041 430.6038805  437.82758731\n",
      " 430.85371561 442.77521405 434.42080808 440.11229648 442.31218685\n",
      " 445.71144117 401.36258037 435.41098777 451.82579665 455.00646058\n",
      " 459.09857894 459.18953217 458.18921021 460.0803749  454.75711622\n",
      " 455.99120107 455.24169573 455.88057674 456.07033528 456.94915452\n",
      " 456.21273598 456.27207642]\n"
     ]
    }
   ],
   "source": [
    "print( data[len(train_set):len(train_set) + len(true_cases)])\n",
    "print(predicted_cases)"
   ]
  },
  {
   "cell_type": "code",
   "execution_count": null,
   "id": "361a901e",
   "metadata": {},
   "outputs": [],
   "source": []
  },
  {
   "cell_type": "code",
   "execution_count": null,
   "id": "c8e8a973",
   "metadata": {},
   "outputs": [],
   "source": []
  },
  {
   "cell_type": "code",
   "execution_count": null,
   "id": "ac115c33",
   "metadata": {},
   "outputs": [],
   "source": []
  },
  {
   "cell_type": "code",
   "execution_count": null,
   "id": "9cffeb82",
   "metadata": {},
   "outputs": [],
   "source": []
  }
 ],
 "metadata": {
  "kernelspec": {
   "display_name": "data_mining",
   "language": "python",
   "name": "data_mining"
  },
  "language_info": {
   "codemirror_mode": {
    "name": "ipython",
    "version": 3
   },
   "file_extension": ".py",
   "mimetype": "text/x-python",
   "name": "python",
   "nbconvert_exporter": "python",
   "pygments_lexer": "ipython3",
   "version": "3.6.15"
  }
 },
 "nbformat": 4,
 "nbformat_minor": 5
}
