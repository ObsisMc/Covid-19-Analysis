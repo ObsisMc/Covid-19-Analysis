{
 "cells": [
  {
   "cell_type": "code",
   "execution_count": 1,
   "id": "8b542990",
   "metadata": {},
   "outputs": [
    {
     "name": "stderr",
     "output_type": "stream",
     "text": [
      "E:\\anaconda\\envs\\data_mining\\lib\\site-packages\\tqdm\\auto.py:22: TqdmWarning: IProgress not found. Please update jupyter and ipywidgets. See https://ipywidgets.readthedocs.io/en/stable/user_install.html\n",
      "  from .autonotebook import tqdm as notebook_tqdm\n"
     ]
    }
   ],
   "source": [
    "import torch\n",
    " \n",
    "import os\n",
    "import numpy as np\n",
    "import pandas as pd\n",
    "from tqdm import tqdm\n",
    "import matplotlib.pyplot as plt\n",
    "from matplotlib import rc\n",
    "from sklearn.preprocessing import MinMaxScaler\n",
    "from pandas.plotting import register_matplotlib_converters\n",
    "from torch import nn, optim\n",
    "import json\n",
    "import copy"
   ]
  },
  {
   "cell_type": "code",
   "execution_count": 2,
   "id": "0a442624",
   "metadata": {},
   "outputs": [
    {
     "data": {
      "text/html": [
       "<div>\n",
       "<style scoped>\n",
       "    .dataframe tbody tr th:only-of-type {\n",
       "        vertical-align: middle;\n",
       "    }\n",
       "\n",
       "    .dataframe tbody tr th {\n",
       "        vertical-align: top;\n",
       "    }\n",
       "\n",
       "    .dataframe thead th {\n",
       "        text-align: right;\n",
       "    }\n",
       "</style>\n",
       "<table border=\"1\" class=\"dataframe\">\n",
       "  <thead>\n",
       "    <tr style=\"text-align: right;\">\n",
       "      <th></th>\n",
       "      <th>confirmedCount</th>\n",
       "    </tr>\n",
       "    <tr>\n",
       "      <th>dateId</th>\n",
       "      <th></th>\n",
       "    </tr>\n",
       "  </thead>\n",
       "  <tbody>\n",
       "    <tr>\n",
       "      <th>2020-01-20</th>\n",
       "      <td>1</td>\n",
       "    </tr>\n",
       "    <tr>\n",
       "      <th>2020-01-21</th>\n",
       "      <td>9</td>\n",
       "    </tr>\n",
       "    <tr>\n",
       "      <th>2020-01-22</th>\n",
       "      <td>16</td>\n",
       "    </tr>\n",
       "    <tr>\n",
       "      <th>2020-01-23</th>\n",
       "      <td>20</td>\n",
       "    </tr>\n",
       "    <tr>\n",
       "      <th>2020-01-24</th>\n",
       "      <td>33</td>\n",
       "    </tr>\n",
       "  </tbody>\n",
       "</table>\n",
       "</div>"
      ],
      "text/plain": [
       "            confirmedCount\n",
       "dateId                    \n",
       "2020-01-20               1\n",
       "2020-01-21               9\n",
       "2020-01-22              16\n",
       "2020-01-23              20\n",
       "2020-01-24              33"
      ]
     },
     "execution_count": 2,
     "metadata": {},
     "output_type": "execute_result"
    }
   ],
   "source": [
    "\n",
    "pd.set_option('display.min_rows',100)  \n",
    "path = '..\\..\\dataset\\data_xyz\\provinceData\\上海.json' ##记得改\n",
    "fr = open(path, 'r', encoding='utf-8')\n",
    "json_info = fr.read()\n",
    "fr.close()\n",
    "data_dict = json.loads(json_info)\n",
    "data = pd.DataFrame(data_dict['data'])\n",
    "data = data[['confirmedCount', 'dateId']]\n",
    "data['dateId'] = data['dateId'].astype(str)\n",
    "data['dateId'] = pd.to_datetime(data['dateId'], format='%Y%m%d')\n",
    "data.index = data['dateId']\n",
    "data = data.set_index('dateId', drop=True)\n",
    "data_size = int(len(data)*0.7)\n",
    "test_set = data[-data_size:]\n",
    "train_set = data[:data_size]\n",
    "test_set = data[-(len(data)-len(train_set)):]\n",
    "temp =copy.deepcopy(test_set)\n",
    "train_set.head()"
   ]
  },
  {
   "cell_type": "code",
   "execution_count": 3,
   "id": "35335037",
   "metadata": {},
   "outputs": [
    {
     "name": "stderr",
     "output_type": "stream",
     "text": [
      "E:\\anaconda\\envs\\data_mining\\lib\\site-packages\\pandas\\plotting\\_matplotlib\\converter.py:103: FutureWarning: Using an implicitly registered datetime converter for a matplotlib plotting method. The converter was registered by pandas on import. Future versions of pandas will require you to explicitly register matplotlib converters.\n",
      "\n",
      "To register the converters:\n",
      "\t>>> from pandas.plotting import register_matplotlib_converters\n",
      "\t>>> register_matplotlib_converters()\n",
      "  warnings.warn(msg, FutureWarning)\n"
     ]
    },
    {
     "data": {
      "image/png": "[encoded data removed]",
      "text/plain": [
       "<Figure size 432x288 with 1 Axes>"
      ]
     },
     "metadata": {
      "needs_background": "light"
     },
     "output_type": "display_data"
    }
   ],
   "source": [
    "plt.plot(train_set)\n",
    "plt.title(\"Daily cases\");"
   ]
  },
  {
   "cell_type": "code",
   "execution_count": 4,
   "id": "2ab313d4",
   "metadata": {},
   "outputs": [
    {
     "data": {
      "text/plain": [
       "'\\nprint(train_set.values.shape)\\nscaler = MinMaxScaler()\\nscaler = scaler.fit(np.expand_dims(train_set, axis=1))\\n \\ntrain_data = scaler.transform(np.expand_dims(train_set, axis=1))\\ntest_data = scaler.transform(np.expand_dims(test_set, axis=1))\\n\\n\\n'"
      ]
     },
     "execution_count": 4,
     "metadata": {},
     "output_type": "execute_result"
    }
   ],
   "source": [
    "\n",
    "scaler = MinMaxScaler()\n",
    "train_set = scaler.fit_transform(train_set)\n",
    "test_set = scaler.fit_transform(test_set)\n",
    "\n",
    "\"\"\"\n",
    "print(train_set.values.shape)\n",
    "scaler = MinMaxScaler()\n",
    "scaler = scaler.fit(np.expand_dims(train_set, axis=1))\n",
    " \n",
    "train_data = scaler.transform(np.expand_dims(train_set, axis=1))\n",
    "test_data = scaler.transform(np.expand_dims(test_set, axis=1))\n",
    "\n",
    "\n",
    "\"\"\"\n"
   ]
  },
  {
   "cell_type": "code",
   "execution_count": 5,
   "id": "d86ab58c",
   "metadata": {},
   "outputs": [],
   "source": [
    "def create_sequences(data, seq_length):\n",
    "    xs = []\n",
    "    ys = []\n",
    " \n",
    "    for i in range(len(data)-seq_length-1):\n",
    "        x = data[i:(i+seq_length)]\n",
    "        y = data[i+seq_length]\n",
    "        xs.append(x)\n",
    "        ys.append(y)\n",
    " \n",
    "    return np.array(xs), np.array(ys)\n",
    " \n",
    "seq_length = 7\n",
    "X_train, y_train = create_sequences(train_set, seq_length)\n",
    "X_test, y_test = create_sequences(test_set, seq_length)\n",
    " \n",
    "X_train = torch.from_numpy(X_train).float()\n",
    "y_train = torch.from_numpy(y_train).float()\n",
    " \n",
    "X_test = torch.from_numpy(X_test).float()\n",
    "y_test = torch.from_numpy(y_test).float()\n"
   ]
  },
  {
   "cell_type": "code",
   "execution_count": 6,
   "id": "b8e446bc",
   "metadata": {},
   "outputs": [],
   "source": [
    "class CoronaVirusPredictor(nn.Module):\n",
    " \n",
    "    def __init__(self, n_features, n_hidden, seq_len, n_layers=2):\n",
    "        super(CoronaVirusPredictor, self).__init__()\n",
    " \n",
    "        self.n_hidden = n_hidden\n",
    "        self.seq_len = seq_len\n",
    "        self.n_layers = n_layers\n",
    " \n",
    "        self.lstm = nn.LSTM(\n",
    "          input_size=n_features,\n",
    "          hidden_size=n_hidden,\n",
    "          num_layers=n_layers,\n",
    "          dropout=0.5\n",
    "        )\n",
    " \n",
    "        self.linear = nn.Linear(in_features=n_hidden, out_features=1)\n",
    " \n",
    "    def reset_hidden_state(self):\n",
    "        self.hidden = (\n",
    "            torch.zeros(self.n_layers, self.seq_len, self.n_hidden),\n",
    "            torch.zeros(self.n_layers, self.seq_len, self.n_hidden)\n",
    "        )\n",
    " \n",
    "    def forward(self, sequences):\n",
    "        lstm_out, self.hidden = self.lstm(\n",
    "          sequences.view(len(sequences), self.seq_len, -1),\n",
    "          self.hidden\n",
    "        )\n",
    "        last_time_step = \\\n",
    "          lstm_out.view(self.seq_len, len(sequences), self.n_hidden)[-1]\n",
    "        y_pred = self.linear(last_time_step)\n",
    "        return y_pred"
   ]
  },
  {
   "cell_type": "code",
   "execution_count": 7,
   "id": "875f4de3",
   "metadata": {},
   "outputs": [],
   "source": [
    "def train_model(\n",
    "      model, \n",
    "      train_data, \n",
    "      train_labels, \n",
    "      test_data=None, \n",
    "      test_labels=None\n",
    "    ):\n",
    "    loss_fn = torch.nn.MSELoss(reduction='sum')\n",
    " \n",
    "    optimiser = torch.optim.Adam(model.parameters(), lr=1e-3)\n",
    "    num_epochs =100\n",
    " \n",
    "    train_hist = np.zeros(num_epochs)\n",
    "    test_hist = np.zeros(num_epochs)\n",
    " \n",
    "    for t in range(num_epochs):\n",
    "        model.reset_hidden_state()\n",
    "        y_pred = model(X_train)\n",
    "        loss = loss_fn(y_pred.float(), y_train)\n",
    "        if test_data is not None:\n",
    "            with torch.no_grad():\n",
    "                y_test_pred = model(X_test)\n",
    "                test_loss = loss_fn(y_test_pred.float(), y_test)\n",
    "            test_hist[t] = test_loss.item()\n",
    " \n",
    "            if t % 10 == 0:  \n",
    "                print(f'Epoch {t} train loss: {loss.item()} test loss: {test_loss.item()}')\n",
    "        elif t % 10 == 0:\n",
    "            print(f'Epoch {t} train loss: {loss.item()}')\n",
    " \n",
    "        train_hist[t] = loss.item()\n",
    "        optimiser.zero_grad()\n",
    "        loss.backward()\n",
    "        optimiser.step()\n",
    " \n",
    "    return model.eval(), train_hist, test_hist"
   ]
  },
  {
   "cell_type": "code",
   "execution_count": null,
   "id": "5463fa3a",
   "metadata": {},
   "outputs": [
    {
     "name": "stdout",
     "output_type": "stream",
     "text": [
      "Epoch 0 train loss: 232.86170959472656 test loss: 25.282474517822266\n",
      "Epoch 10 train loss: 72.0487289428711 test loss: 22.14387321472168\n",
      "Epoch 20 train loss: 41.38821029663086 test loss: 52.92811584472656\n"
     ]
    }
   ],
   "source": [
    "model = CoronaVirusPredictor(\n",
    "  n_features=1, \n",
    "  n_hidden=64,\n",
    "  seq_len=seq_length, \n",
    "  n_layers=2\n",
    ")\n",
    "model, train_hist, test_hist = train_model(\n",
    "  model, \n",
    "  X_train, \n",
    "  y_train, \n",
    "  X_test, \n",
    "  y_test\n",
    ")"
   ]
  },
  {
   "cell_type": "code",
   "execution_count": null,
   "id": "b5591116",
   "metadata": {},
   "outputs": [],
   "source": []
  },
  {
   "cell_type": "code",
   "execution_count": null,
   "id": "fa84e166",
   "metadata": {},
   "outputs": [],
   "source": [
    "with torch.no_grad():\n",
    "    i =0\n",
    "    test_seq = X_test[i:i+1]\n",
    "    \n",
    "    preds = []\n",
    "    \n",
    "    for _ in range(len(X_test)):\n",
    "        test_seq = X_test[i:i+1]\n",
    "        y_test_pred = model(test_seq)\n",
    "        pred = torch.flatten(y_test_pred).item()\n",
    "        preds.append(pred)\n",
    "        i+=1\n",
    "##        new_seq = test_seq.numpy().flatten()\n",
    "##        new_seq = np.append(new_seq, [pred])\n",
    "##        new_seq = new_seq[1:]\n",
    "##       test_seq = torch.as_tensor(new_seq).view(1, seq_length, 1).float()"
   ]
  },
  {
   "cell_type": "code",
   "execution_count": null,
   "id": "cbb1f913",
   "metadata": {},
   "outputs": [],
   "source": [
    "\n",
    "true_cases = scaler.inverse_transform(\n",
    "    np.expand_dims(y_test.flatten().numpy(), axis=0)\n",
    ").flatten()\n",
    "\n",
    "predicted_cases = scaler.inverse_transform(\n",
    "  np.expand_dims(preds, axis=0)\n",
    ").flatten()\n"
   ]
  },
  {
   "cell_type": "code",
   "execution_count": null,
   "id": "bdfd238b",
   "metadata": {},
   "outputs": [],
   "source": [
    "plt.plot(\n",
    "  data.index[:len(train_set)], \n",
    "  data[:len(train_set)],\n",
    "  label='Historical Daily Cases')\n",
    "plt.plot(\n",
    "  data.index[len(train_set):len(train_set) + len(true_cases)], \n",
    "   data[len(train_set):len(train_set) + len(true_cases)],\n",
    "  label='Real Daily Cases')\n",
    "plt.plot(\n",
    " data.index[len(train_set):len(train_set) + len(true_cases)], \n",
    "  predicted_cases, \n",
    "  label='Predicted Daily Cases')\n",
    " \n",
    "plt.legend();"
   ]
  },
  {
   "cell_type": "code",
   "execution_count": null,
   "id": "277357a0",
   "metadata": {},
   "outputs": [],
   "source": [
    "print( data[len(train_set):len(train_set) + len(true_cases)])\n",
    "print(predicted_cases)"
   ]
  },
  {
   "cell_type": "code",
   "execution_count": null,
   "id": "361a901e",
   "metadata": {},
   "outputs": [],
   "source": []
  },
  {
   "cell_type": "code",
   "execution_count": null,
   "id": "c8e8a973",
   "metadata": {},
   "outputs": [],
   "source": []
  },
  {
   "cell_type": "code",
   "execution_count": null,
   "id": "ac115c33",
   "metadata": {},
   "outputs": [],
   "source": []
  },
  {
   "cell_type": "code",
   "execution_count": null,
   "id": "9cffeb82",
   "metadata": {},
   "outputs": [],
   "source": []
  }
 ],
 "metadata": {
  "kernelspec": {
   "display_name": "data_mining",
   "language": "python",
   "name": "data_mining"
  },
  "language_info": {
   "codemirror_mode": {
    "name": "ipython",
    "version": 3
   },
   "file_extension": ".py",
   "mimetype": "text/x-python",
   "name": "python",
   "nbconvert_exporter": "python",
   "pygments_lexer": "ipython3",
   "version": "3.6.15"
  }
 },
 "nbformat": 4,
 "nbformat_minor": 5
}