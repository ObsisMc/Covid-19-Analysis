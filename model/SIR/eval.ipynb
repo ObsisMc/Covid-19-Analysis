{
 "cells": [
  {
   "cell_type": "code",
   "execution_count": null,
   "metadata": {},
   "outputs": [],
   "source": [
    "import pandas as pd\n",
    "import json\n",
    "import numpy as np\n",
    "import matplotlib.pyplot as plt"
   ]
  },
  {
   "cell_type": "markdown",
   "metadata": {
    "pycharm": {
     "name": "#%% md\n"
    }
   },
   "source": [
    "## Data preparation"
   ]
  },
  {
   "cell_type": "code",
   "execution_count": null,
   "metadata": {
    "pycharm": {
     "name": "#%%\n"
    }
   },
   "outputs": [],
   "source": [
    "def readData(path):\n",
    "    with open(path, \"r\") as f:\n",
    "        json_data = json.load(f)\n",
    "        data = pd.DataFrame(json_data[\"data\"])\n",
    "    return data"
   ]
  },
  {
   "cell_type": "code",
   "execution_count": null,
   "metadata": {
    "pycharm": {
     "name": "#%%\n"
    }
   },
   "outputs": [],
   "source": [
    "path = \"../../dataset/data_xyz/provinceData/上海.json\"\n",
    "path2 = \"../../dataset/data_xyz/provinceData/广东.json\"\n",
    "path3 = \"../../dataset/data_xyz/provinceData/西藏.json\"\n",
    "\n",
    "sh_data = readData(path)\n",
    "gd_data = readData(path2)\n",
    "xz_data = readData(path3)"
   ]
  },
  {
   "cell_type": "code",
   "execution_count": null,
   "metadata": {
    "pycharm": {
     "name": "#%%\n"
    }
   },
   "outputs": [],
   "source": [
    "sh_data"
   ]
  },
  {
   "cell_type": "code",
   "execution_count": null,
   "metadata": {
    "pycharm": {
     "name": "#%%\n"
    }
   },
   "outputs": [],
   "source": [
    "def show_plot(data, end_day, start_day=0):\n",
    "    current_confirm = data.currentConfirmedCount.iloc[start_day:]\n",
    "    plt.plot(current_confirm)\n",
    "    plt.show()\n",
    "    print(\"Date from %s to %s\" % (data.loc[start_day, \"dateId\"], data.loc[end_day - 1, \"dateId\"]))"
   ]
  },
  {
   "cell_type": "code",
   "execution_count": null,
   "metadata": {
    "pycharm": {
     "name": "#%%\n"
    }
   },
   "outputs": [],
   "source": [
    "sh_start_day, sh_end = 777, sh_data.shape[0]\n",
    "show_plot(sh_data, sh_end, sh_start_day)"
   ]
  },
  {
   "cell_type": "code",
   "execution_count": null,
   "metadata": {
    "pycharm": {
     "name": "#%%\n"
    }
   },
   "outputs": [],
   "source": [
    "gd_start_day, gd_end = 650, gd_data.shape[0]\n",
    "show_plot(gd_data, gd_end, gd_start_day)"
   ]
  },
  {
   "cell_type": "code",
   "execution_count": null,
   "metadata": {
    "pycharm": {
     "name": "#%%\n"
    }
   },
   "outputs": [],
   "source": [
    "xz_start, xz_end = 0, xz_data.shape[0]\n",
    "show_plot(xz_data, xz_end, xz_start)"
   ]
  },
  {
   "cell_type": "markdown",
   "metadata": {
    "pycharm": {
     "name": "#%% md\n"
    }
   },
   "source": [
    "## Predict"
   ]
  },
  {
   "cell_type": "markdown",
   "metadata": {
    "pycharm": {
     "name": "#%% md\n"
    }
   },
   "source": [
    "### SIR"
   ]
  },
  {
   "cell_type": "markdown",
   "metadata": {
    "pycharm": {
     "name": "#%% md\n"
    }
   },
   "source": [
    "#### SH"
   ]
  },
  {
   "cell_type": "code",
   "execution_count": null,
   "metadata": {
    "pycharm": {
     "name": "#%%\n"
    }
   },
   "outputs": [],
   "source": [
    "from model.SIR.SIR import SIR"
   ]
  },
  {
   "cell_type": "code",
   "execution_count": null,
   "metadata": {
    "pycharm": {
     "name": "#%%\n"
    }
   },
   "outputs": [],
   "source": [
    "def init_params(city, data, population_ceof, start_day=0, population_path=\"../../dataset/population7th.csv\"):\n",
    "    populations = pd.read_csv(population_path)\n",
    "    # TODO:\n",
    "    all_num = populations[populations.Province == city].iloc[0, 1] // population_ceof\n",
    "\n",
    "    I0_num = data.loc[start_day, \"currentConfirmedCount\"]\n",
    "    r0_num = data.loc[start_day, \"deadCount\"] + data.loc[start_day, \"curedCount\"]\n",
    "    S0_num = all_num - I0_num - r0_num\n",
    "\n",
    "    S0 = S0_num / all_num\n",
    "    I0 = I0_num / all_num\n",
    "    r0 = r0_num / all_num\n",
    "    return all_num, S0_num, I0_num, r0_num, S0, I0, r0"
   ]
  },
  {
   "cell_type": "code",
   "execution_count": null,
   "metadata": {
    "pycharm": {
     "name": "#%%\n"
    }
   },
   "outputs": [],
   "source": [
    "def eval(pred, test):\n",
    "    diff = np.abs(pred - test)\n",
    "    return np.sum(diff) / diff.shape[0]"
   ]
  },
  {
   "cell_type": "code",
   "execution_count": null,
   "metadata": {
    "pycharm": {
     "name": "#%%\n"
    }
   },
   "outputs": [],
   "source": [
    "def show_predict(data, all_num, end_day, start_day, S0, I0, beta, gamma):\n",
    "    sir = SIR(S0=S0, I0=I0, beta=beta, gamma=gamma)\n",
    "    # sir = SIR(S0=S0,I0=I0,beta=1,gamma=0.60)\n",
    "\n",
    "    pred = sir.predict(np.arange(0, end_day - start_day))\n",
    "\n",
    "    pre_infected = pred[:, 1] * all_num\n",
    "    gt_infected = data.loc[start_day:end_day - 1, \"currentConfirmedCount\"].reset_index(drop=True)\n",
    "    plt.plot(pre_infected, '-g', label=\"predict\")\n",
    "    plt.plot(gt_infected, '-r', label=\"actual\")\n",
    "    plt.show()\n",
    "    print(\"Average error:\", eval(pre_infected, gt_infected))\n",
    "    return sir, pred"
   ]
  },
  {
   "cell_type": "code",
   "execution_count": null,
   "metadata": {
    "pycharm": {
     "name": "#%%\n"
    }
   },
   "outputs": [],
   "source": [
    "pop = \"../../dataset/population7th.csv\"\n",
    "pop_data = pd.read_csv(pop)\n",
    "total_pop = pop_data.iloc[0, 1]\n",
    "average_pop = total_pop / pop_data.shape[0]\n",
    "pop_scale = 24 * 15\n",
    "average_pop"
   ]
  },
  {
   "cell_type": "code",
   "execution_count": null,
   "metadata": {
    "pycharm": {
     "name": "#%%\n"
    }
   },
   "outputs": [],
   "source": [
    "sh = \"上海\"\n",
    "all_sh, S0_num_sh, I0_num_sh, r0_num_sh, S0, I0, r0 = init_params(sh, sh_data, 15, start_day=sh_start_day)\n",
    "print(S0_num_sh, I0_num_sh, r0_num_sh)\n",
    "print(S0, I0, r0)\n",
    "average_pop / all_sh"
   ]
  },
  {
   "cell_type": "code",
   "execution_count": null,
   "metadata": {
    "pycharm": {
     "name": "#%%\n"
    }
   },
   "outputs": [],
   "source": [
    "sh_sir, sh_pred = show_predict(sh_data, all_sh, sh_end, sh_start_day, S0, I0, 1, 0.8195);"
   ]
  },
  {
   "cell_type": "code",
   "execution_count": null,
   "metadata": {
    "pycharm": {
     "name": "#%%\n"
    }
   },
   "outputs": [],
   "source": [
    "sh_sir.show(sh_pred, figsize=(10, 5))\n",
    "print(\"Deadth: \", sh_pred[-1][-1] * all_sh)"
   ]
  },
  {
   "cell_type": "code",
   "execution_count": null,
   "metadata": {
    "pycharm": {
     "name": "#%%\n"
    }
   },
   "outputs": [],
   "source": [
    "show_predict(sh_data, all_sh, sh_end, sh_start_day, S0, I0, 1, 0.827);"
   ]
  },
  {
   "cell_type": "code",
   "execution_count": null,
   "metadata": {
    "pycharm": {
     "name": "#%%\n"
    }
   },
   "outputs": [],
   "source": []
  },
  {
   "cell_type": "markdown",
   "metadata": {
    "pycharm": {
     "name": "#%% md\n"
    }
   },
   "source": [
    "#### GuangDong"
   ]
  },
  {
   "cell_type": "code",
   "execution_count": null,
   "metadata": {
    "pycharm": {
     "name": "#%%\n"
    }
   },
   "outputs": [],
   "source": [
    "gd = \"广东\"\n",
    "gd_start_day = 700\n",
    "all_gd, S0_num_gd, I0_num_gd, r0_num_gd, S0_gd, I0_gd, r0_gd = init_params(gd, gd_data, 75, start_day=gd_start_day)\n",
    "print(S0_num_gd, I0_num_gd, r0_num_gd)\n",
    "print(S0_gd, I0_gd, r0_gd)"
   ]
  },
  {
   "cell_type": "code",
   "execution_count": null,
   "metadata": {
    "pycharm": {
     "name": "#%%\n"
    }
   },
   "outputs": [],
   "source": [
    "all_gd / all_sh"
   ]
  },
  {
   "cell_type": "code",
   "execution_count": null,
   "metadata": {
    "pycharm": {
     "name": "#%%\n"
    }
   },
   "outputs": [],
   "source": [
    "sir_gd, gd_pred = show_predict(gd_data, all_gd, gd_end, gd_start_day, S0_gd, I0_gd, 1, 0.95)"
   ]
  },
  {
   "cell_type": "code",
   "execution_count": null,
   "metadata": {
    "pycharm": {
     "name": "#%%\n"
    }
   },
   "outputs": [],
   "source": [
    "offset = 70\n",
    "new_S0, new_I0 = gd_pred[offset, 0], gd_pred[offset, 1]\n",
    "new_S0, new_I0"
   ]
  },
  {
   "cell_type": "code",
   "execution_count": null,
   "metadata": {
    "pycharm": {
     "name": "#%%\n"
    }
   },
   "outputs": [],
   "source": [
    "sir_gd2, gd_pred2 = show_predict(gd_data, all_gd, gd_end, gd_start_day + offset, new_S0, new_I0, 0.85, 0.9)"
   ]
  },
  {
   "cell_type": "code",
   "execution_count": null,
   "metadata": {
    "pycharm": {
     "name": "#%%\n"
    }
   },
   "outputs": [],
   "source": []
  },
  {
   "cell_type": "markdown",
   "metadata": {
    "pycharm": {
     "name": "#%% md\n"
    }
   },
   "source": [
    "#### XZ"
   ]
  },
  {
   "cell_type": "code",
   "execution_count": null,
   "metadata": {
    "pycharm": {
     "name": "#%%\n"
    }
   },
   "outputs": [],
   "source": [
    "xz = \"西藏\"\n",
    "xz_start = 0\n",
    "all_xz, S0_num, I0_num, r0_num, S0, I0, r0 = init_params(xz, xz_data, 2000, start_day=xz_start)\n",
    "print(S0_num, I0_num, r0_num)\n",
    "print(S0, I0, r0)\n",
    "print(all_xz / all_sh)"
   ]
  },
  {
   "cell_type": "code",
   "execution_count": null,
   "metadata": {
    "pycharm": {
     "name": "#%%\n"
    }
   },
   "outputs": [],
   "source": [
    "sir, pred = show_predict(xz_data, all_xz, xz_end, xz_start, S0, I0, 0.5, 0.8)"
   ]
  },
  {
   "cell_type": "code",
   "execution_count": null,
   "metadata": {
    "pycharm": {
     "name": "#%%\n"
    }
   },
   "outputs": [],
   "source": []
  }
 ],
 "metadata": {
  "kernelspec": {
   "display_name": "Python 3 (ipykernel)",
   "language": "python",
   "name": "python3"
  },
  "language_info": {
   "codemirror_mode": {
    "name": "ipython",
    "version": 3
   },
   "file_extension": ".py",
   "mimetype": "text/x-python",
   "name": "python",
   "nbconvert_exporter": "python",
   "pygments_lexer": "ipython3",
   "version": "3.7.11"
  }
 },
 "nbformat": 4,
 "nbformat_minor": 1
}