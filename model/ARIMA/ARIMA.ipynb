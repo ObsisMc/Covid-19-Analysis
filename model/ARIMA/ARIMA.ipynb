{
 "cells": [
  {
   "cell_type": "code",
   "execution_count": 2,
   "id": "c90d989f-f870-4738-9efb-19a952577dfd",
   "metadata": {},
   "outputs": [],
   "source": [
    "import numpy as np\n",
    "import pandas as pd\n",
    "import matplotlib.pyplot as plt\n",
    "import seaborn as sea\n",
    "\n",
    "from matplotlib.pylab import style\n",
    "style.use(\"ggplot\")\n",
    "\n",
    "from statsmodels.graphics.tsaplots import plot_acf, plot_pacf # graph of autocorrelation & partial ~ \n",
    "from statsmodels.tsa.stattools import adfuller as ADF # stationary test\n",
    "from statsmodels.stats.diagnostic import acorr_ljungbox # white noise test\n",
    "import statsmodels.api as sm # D-W test\n",
    "from statsmodels.graphics.api import qqplot\n",
    "# import statsmodels.tsa.ARIMA as ARIMA"
   ]
  },
  {
   "cell_type": "markdown",
   "id": "2368fa3f-edd4-4683-a4a9-3cb1f9dfa4eb",
   "metadata": {},
   "source": [
    "# Beijing"
   ]
  },
  {
   "cell_type": "code",
   "execution_count": 3,
   "id": "d09af2a6-9018-4397-838b-f08364ed177e",
   "metadata": {},
   "outputs": [
    {
     "data": {
      "text/html": [
       "<div>\n",
       "<style scoped>\n",
       "    .dataframe tbody tr th:only-of-type {\n",
       "        vertical-align: middle;\n",
       "    }\n",
       "\n",
       "    .dataframe tbody tr th {\n",
       "        vertical-align: top;\n",
       "    }\n",
       "\n",
       "    .dataframe thead th {\n",
       "        text-align: right;\n",
       "    }\n",
       "</style>\n",
       "<table border=\"1\" class=\"dataframe\">\n",
       "  <thead>\n",
       "    <tr style=\"text-align: right;\">\n",
       "      <th></th>\n",
       "      <th>Time</th>\n",
       "      <th>确诊</th>\n",
       "      <th>治愈</th>\n",
       "      <th>死亡</th>\n",
       "      <th>新增确诊</th>\n",
       "      <th>新增本土</th>\n",
       "      <th>新增无症状</th>\n",
       "    </tr>\n",
       "  </thead>\n",
       "  <tbody>\n",
       "    <tr>\n",
       "      <th>0</th>\n",
       "      <td>2.14</td>\n",
       "      <td>3900</td>\n",
       "      <td>3714</td>\n",
       "      <td>7</td>\n",
       "      <td>6</td>\n",
       "      <td>0</td>\n",
       "      <td>0</td>\n",
       "    </tr>\n",
       "    <tr>\n",
       "      <th>1</th>\n",
       "      <td>2.15</td>\n",
       "      <td>3913</td>\n",
       "      <td>3725</td>\n",
       "      <td>7</td>\n",
       "      <td>13</td>\n",
       "      <td>0</td>\n",
       "      <td>0</td>\n",
       "    </tr>\n",
       "    <tr>\n",
       "      <th>2</th>\n",
       "      <td>2.16</td>\n",
       "      <td>3922</td>\n",
       "      <td>3744</td>\n",
       "      <td>7</td>\n",
       "      <td>9</td>\n",
       "      <td>0</td>\n",
       "      <td>1</td>\n",
       "    </tr>\n",
       "    <tr>\n",
       "      <th>3</th>\n",
       "      <td>2.17</td>\n",
       "      <td>3935</td>\n",
       "      <td>3760</td>\n",
       "      <td>7</td>\n",
       "      <td>13</td>\n",
       "      <td>0</td>\n",
       "      <td>0</td>\n",
       "    </tr>\n",
       "    <tr>\n",
       "      <th>4</th>\n",
       "      <td>2.18</td>\n",
       "      <td>3953</td>\n",
       "      <td>3771</td>\n",
       "      <td>7</td>\n",
       "      <td>18</td>\n",
       "      <td>0</td>\n",
       "      <td>3</td>\n",
       "    </tr>\n",
       "    <tr>\n",
       "      <th>...</th>\n",
       "      <td>...</td>\n",
       "      <td>...</td>\n",
       "      <td>...</td>\n",
       "      <td>...</td>\n",
       "      <td>...</td>\n",
       "      <td>...</td>\n",
       "      <td>...</td>\n",
       "    </tr>\n",
       "    <tr>\n",
       "      <th>85</th>\n",
       "      <td>5.10</td>\n",
       "      <td>61370</td>\n",
       "      <td>55575</td>\n",
       "      <td>567</td>\n",
       "      <td>229</td>\n",
       "      <td>228</td>\n",
       "      <td>1260</td>\n",
       "    </tr>\n",
       "    <tr>\n",
       "      <th>86</th>\n",
       "      <td>5.11</td>\n",
       "      <td>61514</td>\n",
       "      <td>56008</td>\n",
       "      <td>572</td>\n",
       "      <td>144</td>\n",
       "      <td>144</td>\n",
       "      <td>1306</td>\n",
       "    </tr>\n",
       "    <tr>\n",
       "      <th>87</th>\n",
       "      <td>5.12</td>\n",
       "      <td>61741</td>\n",
       "      <td>56424</td>\n",
       "      <td>574</td>\n",
       "      <td>227</td>\n",
       "      <td>227</td>\n",
       "      <td>1871</td>\n",
       "    </tr>\n",
       "    <tr>\n",
       "      <th>88</th>\n",
       "      <td>5.13</td>\n",
       "      <td>61936</td>\n",
       "      <td>57146</td>\n",
       "      <td>575</td>\n",
       "      <td>195</td>\n",
       "      <td>194</td>\n",
       "      <td>1487</td>\n",
       "    </tr>\n",
       "    <tr>\n",
       "      <th>89</th>\n",
       "      <td>5.14</td>\n",
       "      <td>62104</td>\n",
       "      <td>57439</td>\n",
       "      <td>578</td>\n",
       "      <td>168</td>\n",
       "      <td>166</td>\n",
       "      <td>1205</td>\n",
       "    </tr>\n",
       "  </tbody>\n",
       "</table>\n",
       "<p>90 rows × 7 columns</p>\n",
       "</div>"
      ],
      "text/plain": [
       "    Time     确诊     治愈   死亡  新增确诊  新增本土  新增无症状\n",
       "0   2.14   3900   3714    7     6     0      0\n",
       "1   2.15   3913   3725    7    13     0      0\n",
       "2   2.16   3922   3744    7     9     0      1\n",
       "3   2.17   3935   3760    7    13     0      0\n",
       "4   2.18   3953   3771    7    18     0      3\n",
       "..   ...    ...    ...  ...   ...   ...    ...\n",
       "85  5.10  61370  55575  567   229   228   1260\n",
       "86  5.11  61514  56008  572   144   144   1306\n",
       "87  5.12  61741  56424  574   227   227   1871\n",
       "88  5.13  61936  57146  575   195   194   1487\n",
       "89  5.14  62104  57439  578   168   166   1205\n",
       "\n",
       "[90 rows x 7 columns]"
      ]
     },
     "execution_count": 3,
     "metadata": {},
     "output_type": "execute_result"
    }
   ],
   "source": [
    "shanghai_data = pd.read_csv(\"../baidu/SH/day.csv\")\n",
    "shanghai_data"
   ]
  },
  {
   "cell_type": "code",
   "execution_count": 4,
   "id": "1dbc81de-6702-41db-8d63-c711f4bfb33d",
   "metadata": {},
   "outputs": [
    {
     "data": {
      "text/html": [
       "<div>\n",
       "<style scoped>\n",
       "    .dataframe tbody tr th:only-of-type {\n",
       "        vertical-align: middle;\n",
       "    }\n",
       "\n",
       "    .dataframe tbody tr th {\n",
       "        vertical-align: top;\n",
       "    }\n",
       "\n",
       "    .dataframe thead th {\n",
       "        text-align: right;\n",
       "    }\n",
       "</style>\n",
       "<table border=\"1\" class=\"dataframe\">\n",
       "  <thead>\n",
       "    <tr style=\"text-align: right;\">\n",
       "      <th></th>\n",
       "      <th>Time</th>\n",
       "      <th>确诊</th>\n",
       "      <th>治愈</th>\n",
       "      <th>死亡</th>\n",
       "      <th>新增确诊</th>\n",
       "      <th>新增本土</th>\n",
       "      <th>新增无症状</th>\n",
       "    </tr>\n",
       "  </thead>\n",
       "  <tbody>\n",
       "    <tr>\n",
       "      <th>0</th>\n",
       "      <td>2.14</td>\n",
       "      <td>1368</td>\n",
       "      <td>1320</td>\n",
       "      <td>9</td>\n",
       "      <td>1</td>\n",
       "      <td>0</td>\n",
       "      <td>2</td>\n",
       "    </tr>\n",
       "    <tr>\n",
       "      <th>1</th>\n",
       "      <td>2.15</td>\n",
       "      <td>1368</td>\n",
       "      <td>1327</td>\n",
       "      <td>9</td>\n",
       "      <td>0</td>\n",
       "      <td>0</td>\n",
       "      <td>1</td>\n",
       "    </tr>\n",
       "    <tr>\n",
       "      <th>2</th>\n",
       "      <td>2.16</td>\n",
       "      <td>1368</td>\n",
       "      <td>1334</td>\n",
       "      <td>9</td>\n",
       "      <td>0</td>\n",
       "      <td>0</td>\n",
       "      <td>2</td>\n",
       "    </tr>\n",
       "    <tr>\n",
       "      <th>3</th>\n",
       "      <td>2.17</td>\n",
       "      <td>1368</td>\n",
       "      <td>1336</td>\n",
       "      <td>9</td>\n",
       "      <td>0</td>\n",
       "      <td>0</td>\n",
       "      <td>1</td>\n",
       "    </tr>\n",
       "    <tr>\n",
       "      <th>4</th>\n",
       "      <td>2.18</td>\n",
       "      <td>1372</td>\n",
       "      <td>1338</td>\n",
       "      <td>9</td>\n",
       "      <td>4</td>\n",
       "      <td>0</td>\n",
       "      <td>1</td>\n",
       "    </tr>\n",
       "    <tr>\n",
       "      <th>...</th>\n",
       "      <td>...</td>\n",
       "      <td>...</td>\n",
       "      <td>...</td>\n",
       "      <td>...</td>\n",
       "      <td>...</td>\n",
       "      <td>...</td>\n",
       "      <td>...</td>\n",
       "    </tr>\n",
       "    <tr>\n",
       "      <th>85</th>\n",
       "      <td>5.10</td>\n",
       "      <td>2597</td>\n",
       "      <td>1983</td>\n",
       "      <td>9</td>\n",
       "      <td>25</td>\n",
       "      <td>24</td>\n",
       "      <td>14</td>\n",
       "    </tr>\n",
       "    <tr>\n",
       "      <th>86</th>\n",
       "      <td>5.11</td>\n",
       "      <td>2632</td>\n",
       "      <td>2028</td>\n",
       "      <td>9</td>\n",
       "      <td>35</td>\n",
       "      <td>35</td>\n",
       "      <td>11</td>\n",
       "    </tr>\n",
       "    <tr>\n",
       "      <th>87</th>\n",
       "      <td>5.12</td>\n",
       "      <td>2675</td>\n",
       "      <td>2121</td>\n",
       "      <td>9</td>\n",
       "      <td>43</td>\n",
       "      <td>42</td>\n",
       "      <td>9</td>\n",
       "    </tr>\n",
       "    <tr>\n",
       "      <th>88</th>\n",
       "      <td>5.13</td>\n",
       "      <td>2707</td>\n",
       "      <td>2160</td>\n",
       "      <td>9</td>\n",
       "      <td>32</td>\n",
       "      <td>32</td>\n",
       "      <td>25</td>\n",
       "    </tr>\n",
       "    <tr>\n",
       "      <th>89</th>\n",
       "      <td>5.14</td>\n",
       "      <td>2740</td>\n",
       "      <td>2215</td>\n",
       "      <td>9</td>\n",
       "      <td>33</td>\n",
       "      <td>33</td>\n",
       "      <td>9</td>\n",
       "    </tr>\n",
       "  </tbody>\n",
       "</table>\n",
       "<p>90 rows × 7 columns</p>\n",
       "</div>"
      ],
      "text/plain": [
       "    Time    确诊    治愈  死亡  新增确诊  新增本土  新增无症状\n",
       "0   2.14  1368  1320   9     1     0      2\n",
       "1   2.15  1368  1327   9     0     0      1\n",
       "2   2.16  1368  1334   9     0     0      2\n",
       "3   2.17  1368  1336   9     0     0      1\n",
       "4   2.18  1372  1338   9     4     0      1\n",
       "..   ...   ...   ...  ..   ...   ...    ...\n",
       "85  5.10  2597  1983   9    25    24     14\n",
       "86  5.11  2632  2028   9    35    35     11\n",
       "87  5.12  2675  2121   9    43    42      9\n",
       "88  5.13  2707  2160   9    32    32     25\n",
       "89  5.14  2740  2215   9    33    33      9\n",
       "\n",
       "[90 rows x 7 columns]"
      ]
     },
     "execution_count": 4,
     "metadata": {},
     "output_type": "execute_result"
    }
   ],
   "source": [
    "beijing_data = pd.read_csv(\"../baidu/BJ/day.csv\")\n",
    "beijing_data"
   ]
  },
  {
   "cell_type": "code",
   "execution_count": 5,
   "id": "ed1d6d51-aed2-4a97-a1b8-29e7380e5a06",
   "metadata": {},
   "outputs": [],
   "source": [
    "train_data = beijing_data"
   ]
  },
  {
   "cell_type": "markdown",
   "id": "a1439db4-64dd-4877-b158-744c7fdbf827",
   "metadata": {},
   "source": [
    "## Added confirm"
   ]
  },
  {
   "cell_type": "code",
   "execution_count": 6,
   "id": "21915d42-3afa-495f-942c-b03056186da3",
   "metadata": {},
   "outputs": [
    {
     "data": {
      "text/html": [
       "<div>\n",
       "<style scoped>\n",
       "    .dataframe tbody tr th:only-of-type {\n",
       "        vertical-align: middle;\n",
       "    }\n",
       "\n",
       "    .dataframe tbody tr th {\n",
       "        vertical-align: top;\n",
       "    }\n",
       "\n",
       "    .dataframe thead th {\n",
       "        text-align: right;\n",
       "    }\n",
       "</style>\n",
       "<table border=\"1\" class=\"dataframe\">\n",
       "  <thead>\n",
       "    <tr style=\"text-align: right;\">\n",
       "      <th></th>\n",
       "      <th>新增确诊</th>\n",
       "    </tr>\n",
       "  </thead>\n",
       "  <tbody>\n",
       "    <tr>\n",
       "      <th>85</th>\n",
       "      <td>25</td>\n",
       "    </tr>\n",
       "    <tr>\n",
       "      <th>86</th>\n",
       "      <td>35</td>\n",
       "    </tr>\n",
       "    <tr>\n",
       "      <th>87</th>\n",
       "      <td>43</td>\n",
       "    </tr>\n",
       "    <tr>\n",
       "      <th>88</th>\n",
       "      <td>32</td>\n",
       "    </tr>\n",
       "    <tr>\n",
       "      <th>89</th>\n",
       "      <td>33</td>\n",
       "    </tr>\n",
       "  </tbody>\n",
       "</table>\n",
       "</div>"
      ],
      "text/plain": [
       "    新增确诊\n",
       "85    25\n",
       "86    35\n",
       "87    43\n",
       "88    32\n",
       "89    33"
      ]
     },
     "execution_count": 6,
     "metadata": {},
     "output_type": "execute_result"
    }
   ],
   "source": [
    "add_confirm_data = pd.DataFrame(train_data.loc[:,\"新增确诊\"]) \n",
    "add_confirm_data.tail()"
   ]
  },
  {
   "cell_type": "code",
   "execution_count": 17,
   "id": "cf294c5c-5dfe-4079-8fc2-ca53c28cf984",
   "metadata": {},
   "outputs": [
    {
     "data": {
      "image/png": "[encoded data removed]",
      "text/plain": [
       "<Figure size 432x288 with 1 Axes>"
      ]
     },
     "metadata": {},
     "output_type": "display_data"
    }
   ],
   "source": [
    "# plot\n",
    "plt.plot(add_confirm_data)\n",
    "plt.show()"
   ]
  },
  {
   "cell_type": "code",
   "execution_count": 18,
   "id": "e6bdc3f7-01ef-4046-b4bb-9320fd76d309",
   "metadata": {},
   "outputs": [
    {
     "name": "stdout",
     "output_type": "stream",
     "text": [
      "(-1.7948807081178189, 0.38300622564169284, 7, 82, {'1%': -3.512738056978279, '5%': -2.8974898650628984, '10%': -2.585948732897085}, 523.1078941944987)\n"
     ]
    },
    {
     "name": "stderr",
     "output_type": "stream",
     "text": [
      "/home/zrh/Software/Environment/anaconda/envs/env0/lib/python3.7/site-packages/ipykernel_launcher.py:3: UserWarning: Matplotlib is currently using module://matplotlib_inline.backend_inline, which is a non-GUI backend, so cannot show the figure.\n",
      "  This is separate from the ipykernel package so we can avoid doing imports until\n"
     ]
    },
    {
     "data": {
      "image/png": "[encoded data removed]",
      "text/plain": [
       "<Figure size 432x288 with 1 Axes>"
      ]
     },
     "metadata": {},
     "output_type": "display_data"
    }
   ],
   "source": [
    "# plot acf\n",
    "lags = 14\n",
    "plot_acf(add_confirm_data, lags=lags).show()\n",
    "# test stationary\n",
    "print(sm.tsa.stattools.adfuller(add_confirm_data))"
   ]
  },
  {
   "cell_type": "code",
   "execution_count": 19,
   "id": "d395528f-7db6-4af1-af2e-a91b6cb3a67d",
   "metadata": {},
   "outputs": [
    {
     "name": "stdout",
     "output_type": "stream",
     "text": [
      "(-1.7948807081178189, 0.38300622564169284, 7, 82, {'1%': -3.512738056978279, '5%': -2.8974898650628984, '10%': -2.585948732897085}, 523.1078941944987)\n"
     ]
    }
   ],
   "source": [
    "# test stationary: root test\n",
    "print(ADF(add_confirm_data.新增确诊))"
   ]
  },
  {
   "cell_type": "code",
   "execution_count": 23,
   "id": "abe648a4-da08-4599-a5d5-0696b87d24e0",
   "metadata": {},
   "outputs": [
    {
     "name": "stderr",
     "output_type": "stream",
     "text": [
      "/home/zrh/Software/Environment/anaconda/envs/env0/lib/python3.7/site-packages/IPython/core/pylabtools.py:151: UserWarning: Glyph 26032 (\\N{CJK UNIFIED IDEOGRAPH-65B0}) missing from current font.\n",
      "  fig.canvas.print_figure(bytes_io, **kw)\n",
      "/home/zrh/Software/Environment/anaconda/envs/env0/lib/python3.7/site-packages/IPython/core/pylabtools.py:151: UserWarning: Glyph 22686 (\\N{CJK UNIFIED IDEOGRAPH-589E}) missing from current font.\n",
      "  fig.canvas.print_figure(bytes_io, **kw)\n",
      "/home/zrh/Software/Environment/anaconda/envs/env0/lib/python3.7/site-packages/IPython/core/pylabtools.py:151: UserWarning: Glyph 30830 (\\N{CJK UNIFIED IDEOGRAPH-786E}) missing from current font.\n",
      "  fig.canvas.print_figure(bytes_io, **kw)\n",
      "/home/zrh/Software/Environment/anaconda/envs/env0/lib/python3.7/site-packages/IPython/core/pylabtools.py:151: UserWarning: Glyph 35786 (\\N{CJK UNIFIED IDEOGRAPH-8BCA}) missing from current font.\n",
      "  fig.canvas.print_figure(bytes_io, **kw)\n"
     ]
    },
    {
     "data": {
      "image/png": "[encoded data removed]",
      "text/plain": [
       "<Figure size 432x288 with 1 Axes>"
      ]
     },
     "metadata": {},
     "output_type": "display_data"
    },
    {
     "name": "stderr",
     "output_type": "stream",
     "text": [
      "/home/zrh/Software/Environment/anaconda/envs/env0/lib/python3.7/site-packages/ipykernel_launcher.py:10: UserWarning: Matplotlib is currently using module://matplotlib_inline.backend_inline, which is a non-GUI backend, so cannot show the figure.\n",
      "  # Remove the CWD from sys.path while we load stuff.\n"
     ]
    },
    {
     "data": {
      "image/png": "[encoded data removed]",
      "text/plain": [
       "<Figure size 432x288 with 1 Axes>"
      ]
     },
     "metadata": {},
     "output_type": "display_data"
    }
   ],
   "source": [
    "# first-order difference\n",
    "d1 = 1\n",
    "d1_add_confirm = add_confirm_data.diff(periods=d1, axis=0).dropna()\n",
    "\n",
    "# sequence graph\n",
    "d1_add_confirm.plot()\n",
    "plt.show()\n",
    "\n",
    "# autocorrelogram\n",
    "plot_acf(d1_add_confirm, lags=14).show()"
   ]
  },
  {
   "cell_type": "code",
   "execution_count": 24,
   "id": "7b37481c-309b-446b-a3db-98850b091e83",
   "metadata": {},
   "outputs": [
    {
     "name": "stdout",
     "output_type": "stream",
     "text": [
      "Stationary test:  (-4.065609893772978, 0.0011033578555468425, 3, 85, {'1%': -3.5097356063504983, '5%': -2.8961947486260944, '10%': -2.5852576124567475}, 515.3084108400425)\n"
     ]
    }
   ],
   "source": [
    "# stationary test\n",
    "print(\"Stationary test: \", ADF(d1_add_confirm.新增确诊))"
   ]
  },
  {
   "cell_type": "code",
   "execution_count": 25,
   "id": "f0dfe123-79a7-434d-a17d-1341e9d9b8e6",
   "metadata": {},
   "outputs": [
    {
     "name": "stdout",
     "output_type": "stream",
     "text": [
      "White noise test:       lb_stat     lb_pvalue\n",
      "1  29.399434  5.889484e-08\n"
     ]
    }
   ],
   "source": [
    "# white noise test\n",
    "print(\"White noise test: \", acorr_ljungbox(d1_add_confirm, lags=1))"
   ]
  },
  {
   "cell_type": "code",
   "execution_count": 26,
   "id": "7cac1e74-0b16-4f87-9992-70076fefc95e",
   "metadata": {},
   "outputs": [
    {
     "name": "stderr",
     "output_type": "stream",
     "text": [
      "/home/zrh/Software/Environment/anaconda/envs/env0/lib/python3.7/site-packages/ipykernel_launcher.py:3: UserWarning: Matplotlib is currently using module://matplotlib_inline.backend_inline, which is a non-GUI backend, so cannot show the figure.\n",
      "  This is separate from the ipykernel package so we can avoid doing imports until\n",
      "/home/zrh/Software/Environment/anaconda/envs/env0/lib/python3.7/site-packages/statsmodels/graphics/tsaplots.py:353: FutureWarning: The default method 'yw' can produce PACF values outside of the [-1,1] interval. After 0.13, the default will change tounadjusted Yule-Walker ('ywm'). You can use this method now by setting method='ywm'.\n",
      "  FutureWarning,\n",
      "/home/zrh/Software/Environment/anaconda/envs/env0/lib/python3.7/site-packages/ipykernel_launcher.py:6: UserWarning: Matplotlib is currently using module://matplotlib_inline.backend_inline, which is a non-GUI backend, so cannot show the figure.\n",
      "  \n",
      "/home/zrh/Software/Environment/anaconda/envs/env0/lib/python3.7/site-packages/statsmodels/graphics/tsaplots.py:353: FutureWarning: The default method 'yw' can produce PACF values outside of the [-1,1] interval. After 0.13, the default will change tounadjusted Yule-Walker ('ywm'). You can use this method now by setting method='ywm'.\n",
      "  FutureWarning,\n",
      "/home/zrh/Software/Environment/anaconda/envs/env0/lib/python3.7/site-packages/ipykernel_launcher.py:7: UserWarning: Matplotlib is currently using module://matplotlib_inline.backend_inline, which is a non-GUI backend, so cannot show the figure.\n",
      "  import sys\n"
     ]
    },
    {
     "data": {
      "image/png": "[encoded data removed]",
      "text/plain": [
       "<Figure size 432x288 with 1 Axes>"
      ]
     },
     "metadata": {},
     "output_type": "display_data"
    },
    {
     "data": {
      "image/png": "[encoded data removed]",
      "text/plain": [
       "<Figure size 432x288 with 1 Axes>"
      ]
     },
     "metadata": {},
     "output_type": "display_data"
    },
    {
     "data": {
      "image/png": "[encoded data removed]",
      "text/plain": [
       "<Figure size 432x288 with 1 Axes>"
      ]
     },
     "metadata": {},
     "output_type": "display_data"
    }
   ],
   "source": [
    "# order determination\n",
    "# autocorrelogram\n",
    "plot_acf(d1_add_confirm, lags=14).show()\n",
    "\n",
    "# partical autocorrelogram\n",
    "plot_pacf(d1_add_confirm, lags=14).show()\n",
    "plot_pacf(d1_add_confirm, lags=21).show()\n"
   ]
  },
  {
   "cell_type": "code",
   "execution_count": 27,
   "id": "cf0e9c71-992a-4b5e-b59a-50d02f65b114",
   "metadata": {},
   "outputs": [
    {
     "data": {
      "text/plain": [
       "8"
      ]
     },
     "execution_count": 27,
     "metadata": {},
     "output_type": "execute_result"
    }
   ],
   "source": [
    "# BIC AIC optimization\n",
    "pmax = qmax = len(d1_add_confirm)//10\n",
    "pmax"
   ]
  },
  {
   "cell_type": "code",
   "execution_count": 28,
   "id": "4099326a-7294-4a2f-9e31-7ad51046fd8c",
   "metadata": {
    "tags": []
   },
   "outputs": [
    {
     "name": "stderr",
     "output_type": "stream",
     "text": [
      "/home/zrh/Software/Environment/anaconda/envs/env0/lib/python3.7/site-packages/statsmodels/tsa/statespace/sarimax.py:966: UserWarning: Non-stationary starting autoregressive parameters found. Using zeros as starting parameters.\n",
      "  warn('Non-stationary starting autoregressive parameters'\n",
      "/home/zrh/Software/Environment/anaconda/envs/env0/lib/python3.7/site-packages/statsmodels/tsa/statespace/sarimax.py:978: UserWarning: Non-invertible starting MA parameters found. Using zeros as starting parameters.\n",
      "  warn('Non-invertible starting MA parameters found.'\n",
      "/home/zrh/Software/Environment/anaconda/envs/env0/lib/python3.7/site-packages/statsmodels/base/model.py:606: ConvergenceWarning: Maximum Likelihood optimization failed to converge. Check mle_retvals\n",
      "  ConvergenceWarning)\n",
      "/home/zrh/Software/Environment/anaconda/envs/env0/lib/python3.7/site-packages/statsmodels/base/model.py:606: ConvergenceWarning: Maximum Likelihood optimization failed to converge. Check mle_retvals\n",
      "  ConvergenceWarning)\n",
      "/home/zrh/Software/Environment/anaconda/envs/env0/lib/python3.7/site-packages/statsmodels/base/model.py:606: ConvergenceWarning: Maximum Likelihood optimization failed to converge. Check mle_retvals\n",
      "  ConvergenceWarning)\n",
      "/home/zrh/Software/Environment/anaconda/envs/env0/lib/python3.7/site-packages/statsmodels/base/model.py:606: ConvergenceWarning: Maximum Likelihood optimization failed to converge. Check mle_retvals\n",
      "  ConvergenceWarning)\n",
      "/home/zrh/Software/Environment/anaconda/envs/env0/lib/python3.7/site-packages/statsmodels/base/model.py:606: ConvergenceWarning: Maximum Likelihood optimization failed to converge. Check mle_retvals\n",
      "  ConvergenceWarning)\n",
      "/home/zrh/Software/Environment/anaconda/envs/env0/lib/python3.7/site-packages/statsmodels/base/model.py:606: ConvergenceWarning: Maximum Likelihood optimization failed to converge. Check mle_retvals\n",
      "  ConvergenceWarning)\n",
      "/home/zrh/Software/Environment/anaconda/envs/env0/lib/python3.7/site-packages/statsmodels/base/model.py:606: ConvergenceWarning: Maximum Likelihood optimization failed to converge. Check mle_retvals\n",
      "  ConvergenceWarning)\n",
      "/home/zrh/Software/Environment/anaconda/envs/env0/lib/python3.7/site-packages/statsmodels/base/model.py:606: ConvergenceWarning: Maximum Likelihood optimization failed to converge. Check mle_retvals\n",
      "  ConvergenceWarning)\n",
      "/home/zrh/Software/Environment/anaconda/envs/env0/lib/python3.7/site-packages/statsmodels/base/model.py:606: ConvergenceWarning: Maximum Likelihood optimization failed to converge. Check mle_retvals\n",
      "  ConvergenceWarning)\n",
      "/home/zrh/Software/Environment/anaconda/envs/env0/lib/python3.7/site-packages/statsmodels/base/model.py:606: ConvergenceWarning: Maximum Likelihood optimization failed to converge. Check mle_retvals\n",
      "  ConvergenceWarning)\n",
      "/home/zrh/Software/Environment/anaconda/envs/env0/lib/python3.7/site-packages/statsmodels/base/model.py:606: ConvergenceWarning: Maximum Likelihood optimization failed to converge. Check mle_retvals\n",
      "  ConvergenceWarning)\n",
      "/home/zrh/Software/Environment/anaconda/envs/env0/lib/python3.7/site-packages/statsmodels/base/model.py:606: ConvergenceWarning: Maximum Likelihood optimization failed to converge. Check mle_retvals\n",
      "  ConvergenceWarning)\n",
      "/home/zrh/Software/Environment/anaconda/envs/env0/lib/python3.7/site-packages/statsmodels/base/model.py:606: ConvergenceWarning: Maximum Likelihood optimization failed to converge. Check mle_retvals\n",
      "  ConvergenceWarning)\n",
      "/home/zrh/Software/Environment/anaconda/envs/env0/lib/python3.7/site-packages/statsmodels/base/model.py:606: ConvergenceWarning: Maximum Likelihood optimization failed to converge. Check mle_retvals\n",
      "  ConvergenceWarning)\n",
      "/home/zrh/Software/Environment/anaconda/envs/env0/lib/python3.7/site-packages/statsmodels/base/model.py:606: ConvergenceWarning: Maximum Likelihood optimization failed to converge. Check mle_retvals\n",
      "  ConvergenceWarning)\n",
      "/home/zrh/Software/Environment/anaconda/envs/env0/lib/python3.7/site-packages/statsmodels/base/model.py:606: ConvergenceWarning: Maximum Likelihood optimization failed to converge. Check mle_retvals\n",
      "  ConvergenceWarning)\n",
      "/home/zrh/Software/Environment/anaconda/envs/env0/lib/python3.7/site-packages/statsmodels/base/model.py:606: ConvergenceWarning: Maximum Likelihood optimization failed to converge. Check mle_retvals\n",
      "  ConvergenceWarning)\n",
      "/home/zrh/Software/Environment/anaconda/envs/env0/lib/python3.7/site-packages/statsmodels/base/model.py:606: ConvergenceWarning: Maximum Likelihood optimization failed to converge. Check mle_retvals\n",
      "  ConvergenceWarning)\n",
      "/home/zrh/Software/Environment/anaconda/envs/env0/lib/python3.7/site-packages/statsmodels/base/model.py:606: ConvergenceWarning: Maximum Likelihood optimization failed to converge. Check mle_retvals\n",
      "  ConvergenceWarning)\n",
      "/home/zrh/Software/Environment/anaconda/envs/env0/lib/python3.7/site-packages/statsmodels/base/model.py:606: ConvergenceWarning: Maximum Likelihood optimization failed to converge. Check mle_retvals\n",
      "  ConvergenceWarning)\n",
      "/home/zrh/Software/Environment/anaconda/envs/env0/lib/python3.7/site-packages/statsmodels/base/model.py:606: ConvergenceWarning: Maximum Likelihood optimization failed to converge. Check mle_retvals\n",
      "  ConvergenceWarning)\n",
      "/home/zrh/Software/Environment/anaconda/envs/env0/lib/python3.7/site-packages/statsmodels/base/model.py:606: ConvergenceWarning: Maximum Likelihood optimization failed to converge. Check mle_retvals\n",
      "  ConvergenceWarning)\n",
      "/home/zrh/Software/Environment/anaconda/envs/env0/lib/python3.7/site-packages/statsmodels/base/model.py:606: ConvergenceWarning: Maximum Likelihood optimization failed to converge. Check mle_retvals\n",
      "  ConvergenceWarning)\n",
      "/home/zrh/Software/Environment/anaconda/envs/env0/lib/python3.7/site-packages/statsmodels/base/model.py:606: ConvergenceWarning: Maximum Likelihood optimization failed to converge. Check mle_retvals\n",
      "  ConvergenceWarning)\n",
      "/home/zrh/Software/Environment/anaconda/envs/env0/lib/python3.7/site-packages/statsmodels/base/model.py:606: ConvergenceWarning: Maximum Likelihood optimization failed to converge. Check mle_retvals\n",
      "  ConvergenceWarning)\n",
      "/home/zrh/Software/Environment/anaconda/envs/env0/lib/python3.7/site-packages/statsmodels/base/model.py:606: ConvergenceWarning: Maximum Likelihood optimization failed to converge. Check mle_retvals\n",
      "  ConvergenceWarning)\n",
      "/home/zrh/Software/Environment/anaconda/envs/env0/lib/python3.7/site-packages/statsmodels/base/model.py:606: ConvergenceWarning: Maximum Likelihood optimization failed to converge. Check mle_retvals\n",
      "  ConvergenceWarning)\n",
      "/home/zrh/Software/Environment/anaconda/envs/env0/lib/python3.7/site-packages/statsmodels/base/model.py:606: ConvergenceWarning: Maximum Likelihood optimization failed to converge. Check mle_retvals\n",
      "  ConvergenceWarning)\n",
      "/home/zrh/Software/Environment/anaconda/envs/env0/lib/python3.7/site-packages/statsmodels/base/model.py:606: ConvergenceWarning: Maximum Likelihood optimization failed to converge. Check mle_retvals\n",
      "  ConvergenceWarning)\n",
      "/home/zrh/Software/Environment/anaconda/envs/env0/lib/python3.7/site-packages/statsmodels/base/model.py:606: ConvergenceWarning: Maximum Likelihood optimization failed to converge. Check mle_retvals\n",
      "  ConvergenceWarning)\n",
      "/home/zrh/Software/Environment/anaconda/envs/env0/lib/python3.7/site-packages/statsmodels/base/model.py:606: ConvergenceWarning: Maximum Likelihood optimization failed to converge. Check mle_retvals\n",
      "  ConvergenceWarning)\n",
      "/home/zrh/Software/Environment/anaconda/envs/env0/lib/python3.7/site-packages/statsmodels/base/model.py:606: ConvergenceWarning: Maximum Likelihood optimization failed to converge. Check mle_retvals\n",
      "  ConvergenceWarning)\n",
      "/home/zrh/Software/Environment/anaconda/envs/env0/lib/python3.7/site-packages/statsmodels/base/model.py:606: ConvergenceWarning: Maximum Likelihood optimization failed to converge. Check mle_retvals\n",
      "  ConvergenceWarning)\n",
      "/home/zrh/Software/Environment/anaconda/envs/env0/lib/python3.7/site-packages/statsmodels/base/model.py:606: ConvergenceWarning: Maximum Likelihood optimization failed to converge. Check mle_retvals\n",
      "  ConvergenceWarning)\n",
      "/home/zrh/Software/Environment/anaconda/envs/env0/lib/python3.7/site-packages/statsmodels/base/model.py:606: ConvergenceWarning: Maximum Likelihood optimization failed to converge. Check mle_retvals\n",
      "  ConvergenceWarning)\n",
      "/home/zrh/Software/Environment/anaconda/envs/env0/lib/python3.7/site-packages/statsmodels/base/model.py:606: ConvergenceWarning: Maximum Likelihood optimization failed to converge. Check mle_retvals\n",
      "  ConvergenceWarning)\n",
      "/home/zrh/Software/Environment/anaconda/envs/env0/lib/python3.7/site-packages/statsmodels/base/model.py:606: ConvergenceWarning: Maximum Likelihood optimization failed to converge. Check mle_retvals\n",
      "  ConvergenceWarning)\n",
      "/home/zrh/Software/Environment/anaconda/envs/env0/lib/python3.7/site-packages/statsmodels/base/model.py:606: ConvergenceWarning: Maximum Likelihood optimization failed to converge. Check mle_retvals\n",
      "  ConvergenceWarning)\n",
      "/home/zrh/Software/Environment/anaconda/envs/env0/lib/python3.7/site-packages/statsmodels/base/model.py:606: ConvergenceWarning: Maximum Likelihood optimization failed to converge. Check mle_retvals\n",
      "  ConvergenceWarning)\n",
      "/home/zrh/Software/Environment/anaconda/envs/env0/lib/python3.7/site-packages/statsmodels/base/model.py:606: ConvergenceWarning: Maximum Likelihood optimization failed to converge. Check mle_retvals\n",
      "  ConvergenceWarning)\n",
      "/home/zrh/Software/Environment/anaconda/envs/env0/lib/python3.7/site-packages/statsmodels/base/model.py:606: ConvergenceWarning: Maximum Likelihood optimization failed to converge. Check mle_retvals\n",
      "  ConvergenceWarning)\n",
      "/home/zrh/Software/Environment/anaconda/envs/env0/lib/python3.7/site-packages/statsmodels/base/model.py:606: ConvergenceWarning: Maximum Likelihood optimization failed to converge. Check mle_retvals\n",
      "  ConvergenceWarning)\n"
     ]
    },
    {
     "data": {
      "text/plain": [
       "[[635.8305005071237,\n",
       "  611.9781100119621,\n",
       "  602.6841200499531,\n",
       "  606.6035932509878,\n",
       "  611.0921702580627,\n",
       "  614.795459935772,\n",
       "  618.9430165837954,\n",
       "  623.3269550712315,\n",
       "  627.127937824166],\n",
       " [606.8555822187465,\n",
       "  609.1160762038811,\n",
       "  606.594169937402,\n",
       "  610.2895950142492,\n",
       "  614.7659949661861,\n",
       "  618.7698534846579,\n",
       "  623.2563331787804,\n",
       "  627.7287170197512,\n",
       "  630.1960477252201],\n",
       " [607.364036555503,\n",
       "  610.111210329511,\n",
       "  611.0824026827252,\n",
       "  614.7553504012515,\n",
       "  618.6394760272559,\n",
       "  617.9564838661057,\n",
       "  622.4025084430837,\n",
       "  627.933646250019,\n",
       "  628.6055057856657],\n",
       " [609.2318829034447,\n",
       "  611.3825821394404,\n",
       "  615.1814974437966,\n",
       "  618.7141092077792,\n",
       "  622.7145616772401,\n",
       "  626.8252245500441,\n",
       "  631.175251435506,\n",
       "  629.0549973468744,\n",
       "  632.1813847464852],\n",
       " [611.6628664142556,\n",
       "  615.4334166483219,\n",
       "  619.5896665532193,\n",
       "  622.9944462374492,\n",
       "  627.6683455764942,\n",
       "  629.3665538343603,\n",
       "  633.8519909403069,\n",
       "  632.4896248996164,\n",
       "  637.8840614533276],\n",
       " [614.4518389728933,\n",
       "  616.3336354506599,\n",
       "  616.6035431637414,\n",
       "  622.2127115830775,\n",
       "  624.2669994681701,\n",
       "  630.7118458597628,\n",
       "  633.3492716763116,\n",
       "  636.9561241450998,\n",
       "  640.6854780940092],\n",
       " [617.4765591871279,\n",
       "  620.2776574025532,\n",
       "  624.1668919114497,\n",
       "  625.2317333062459,\n",
       "  631.9483277978053,\n",
       "  631.6527181003624,\n",
       "  636.7760333224851,\n",
       "  640.9678870593483,\n",
       "  641.9784441376997],\n",
       " [619.6492170614349,\n",
       "  623.7798197493295,\n",
       "  624.4073231567207,\n",
       "  630.9356085557017,\n",
       "  631.4395565473225,\n",
       "  636.8503447215774,\n",
       "  640.7725279115604,\n",
       "  644.906389529925,\n",
       "  647.9509758074522],\n",
       " [623.1814814100874,\n",
       "  627.1339922127154,\n",
       "  627.3520186607552,\n",
       "  632.5411477663898,\n",
       "  636.5746242831055,\n",
       "  639.4626512809684,\n",
       "  644.1167144286459,\n",
       "  647.5014898341245,\n",
       "  651.0774036528543]]"
      ]
     },
     "execution_count": 28,
     "metadata": {},
     "output_type": "execute_result"
    }
   ],
   "source": [
    "# BIC\n",
    "bic_matrix = []\n",
    "for p in range(pmax+1):\n",
    "    tmp = []\n",
    "    for q in range(qmax+1):\n",
    "        # try:\n",
    "        tmp.append(sm.tsa.ARIMA(add_confirm_data, order=(p,1,q)).fit().bic)\n",
    "        # except:\n",
    "            # tmp.append(None)\n",
    "    bic_matrix.append(tmp)\n",
    "bic_matrix"
   ]
  },
  {
   "cell_type": "code",
   "execution_count": 29,
   "id": "ccd44ac9-068a-402a-8536-25388f3018eb",
   "metadata": {
    "tags": []
   },
   "outputs": [
    {
     "data": {
      "text/html": [
       "<div>\n",
       "<style scoped>\n",
       "    .dataframe tbody tr th:only-of-type {\n",
       "        vertical-align: middle;\n",
       "    }\n",
       "\n",
       "    .dataframe tbody tr th {\n",
       "        vertical-align: top;\n",
       "    }\n",
       "\n",
       "    .dataframe thead th {\n",
       "        text-align: right;\n",
       "    }\n",
       "</style>\n",
       "<table border=\"1\" class=\"dataframe\">\n",
       "  <thead>\n",
       "    <tr style=\"text-align: right;\">\n",
       "      <th></th>\n",
       "      <th>0</th>\n",
       "      <th>1</th>\n",
       "      <th>2</th>\n",
       "      <th>3</th>\n",
       "      <th>4</th>\n",
       "      <th>5</th>\n",
       "      <th>6</th>\n",
       "      <th>7</th>\n",
       "      <th>8</th>\n",
       "    </tr>\n",
       "  </thead>\n",
       "  <tbody>\n",
       "    <tr>\n",
       "      <th>0</th>\n",
       "      <td>635.830501</td>\n",
       "      <td>611.978110</td>\n",
       "      <td>602.684120</td>\n",
       "      <td>606.603593</td>\n",
       "      <td>611.092170</td>\n",
       "      <td>614.795460</td>\n",
       "      <td>618.943017</td>\n",
       "      <td>623.326955</td>\n",
       "      <td>627.127938</td>\n",
       "    </tr>\n",
       "    <tr>\n",
       "      <th>1</th>\n",
       "      <td>606.855582</td>\n",
       "      <td>609.116076</td>\n",
       "      <td>606.594170</td>\n",
       "      <td>610.289595</td>\n",
       "      <td>614.765995</td>\n",
       "      <td>618.769853</td>\n",
       "      <td>623.256333</td>\n",
       "      <td>627.728717</td>\n",
       "      <td>630.196048</td>\n",
       "    </tr>\n",
       "    <tr>\n",
       "      <th>2</th>\n",
       "      <td>607.364037</td>\n",
       "      <td>610.111210</td>\n",
       "      <td>611.082403</td>\n",
       "      <td>614.755350</td>\n",
       "      <td>618.639476</td>\n",
       "      <td>617.956484</td>\n",
       "      <td>622.402508</td>\n",
       "      <td>627.933646</td>\n",
       "      <td>628.605506</td>\n",
       "    </tr>\n",
       "    <tr>\n",
       "      <th>3</th>\n",
       "      <td>609.231883</td>\n",
       "      <td>611.382582</td>\n",
       "      <td>615.181497</td>\n",
       "      <td>618.714109</td>\n",
       "      <td>622.714562</td>\n",
       "      <td>626.825225</td>\n",
       "      <td>631.175251</td>\n",
       "      <td>629.054997</td>\n",
       "      <td>632.181385</td>\n",
       "    </tr>\n",
       "    <tr>\n",
       "      <th>4</th>\n",
       "      <td>611.662866</td>\n",
       "      <td>615.433417</td>\n",
       "      <td>619.589667</td>\n",
       "      <td>622.994446</td>\n",
       "      <td>627.668346</td>\n",
       "      <td>629.366554</td>\n",
       "      <td>633.851991</td>\n",
       "      <td>632.489625</td>\n",
       "      <td>637.884061</td>\n",
       "    </tr>\n",
       "    <tr>\n",
       "      <th>5</th>\n",
       "      <td>614.451839</td>\n",
       "      <td>616.333635</td>\n",
       "      <td>616.603543</td>\n",
       "      <td>622.212712</td>\n",
       "      <td>624.266999</td>\n",
       "      <td>630.711846</td>\n",
       "      <td>633.349272</td>\n",
       "      <td>636.956124</td>\n",
       "      <td>640.685478</td>\n",
       "    </tr>\n",
       "    <tr>\n",
       "      <th>6</th>\n",
       "      <td>617.476559</td>\n",
       "      <td>620.277657</td>\n",
       "      <td>624.166892</td>\n",
       "      <td>625.231733</td>\n",
       "      <td>631.948328</td>\n",
       "      <td>631.652718</td>\n",
       "      <td>636.776033</td>\n",
       "      <td>640.967887</td>\n",
       "      <td>641.978444</td>\n",
       "    </tr>\n",
       "    <tr>\n",
       "      <th>7</th>\n",
       "      <td>619.649217</td>\n",
       "      <td>623.779820</td>\n",
       "      <td>624.407323</td>\n",
       "      <td>630.935609</td>\n",
       "      <td>631.439557</td>\n",
       "      <td>636.850345</td>\n",
       "      <td>640.772528</td>\n",
       "      <td>644.906390</td>\n",
       "      <td>647.950976</td>\n",
       "    </tr>\n",
       "    <tr>\n",
       "      <th>8</th>\n",
       "      <td>623.181481</td>\n",
       "      <td>627.133992</td>\n",
       "      <td>627.352019</td>\n",
       "      <td>632.541148</td>\n",
       "      <td>636.574624</td>\n",
       "      <td>639.462651</td>\n",
       "      <td>644.116714</td>\n",
       "      <td>647.501490</td>\n",
       "      <td>651.077404</td>\n",
       "    </tr>\n",
       "  </tbody>\n",
       "</table>\n",
       "</div>"
      ],
      "text/plain": [
       "            0           1           2           3           4           5  \\\n",
       "0  635.830501  611.978110  602.684120  606.603593  611.092170  614.795460   \n",
       "1  606.855582  609.116076  606.594170  610.289595  614.765995  618.769853   \n",
       "2  607.364037  610.111210  611.082403  614.755350  618.639476  617.956484   \n",
       "3  609.231883  611.382582  615.181497  618.714109  622.714562  626.825225   \n",
       "4  611.662866  615.433417  619.589667  622.994446  627.668346  629.366554   \n",
       "5  614.451839  616.333635  616.603543  622.212712  624.266999  630.711846   \n",
       "6  617.476559  620.277657  624.166892  625.231733  631.948328  631.652718   \n",
       "7  619.649217  623.779820  624.407323  630.935609  631.439557  636.850345   \n",
       "8  623.181481  627.133992  627.352019  632.541148  636.574624  639.462651   \n",
       "\n",
       "            6           7           8  \n",
       "0  618.943017  623.326955  627.127938  \n",
       "1  623.256333  627.728717  630.196048  \n",
       "2  622.402508  627.933646  628.605506  \n",
       "3  631.175251  629.054997  632.181385  \n",
       "4  633.851991  632.489625  637.884061  \n",
       "5  633.349272  636.956124  640.685478  \n",
       "6  636.776033  640.967887  641.978444  \n",
       "7  640.772528  644.906390  647.950976  \n",
       "8  644.116714  647.501490  651.077404  "
      ]
     },
     "execution_count": 29,
     "metadata": {},
     "output_type": "execute_result"
    }
   ],
   "source": [
    "bic_df = pd.DataFrame(bic_matrix)\n",
    "bic_df"
   ]
  },
  {
   "cell_type": "code",
   "execution_count": 30,
   "id": "72b9fd00-c510-4902-ad4a-ac5bcd528a87",
   "metadata": {},
   "outputs": [
    {
     "data": {
      "text/plain": [
       "(0, 2)"
      ]
     },
     "execution_count": 30,
     "metadata": {},
     "output_type": "execute_result"
    }
   ],
   "source": [
    "p,d = bic_df.stack().idxmin()\n",
    "p,d"
   ]
  },
  {
   "cell_type": "code",
   "execution_count": 31,
   "id": "47c8d8ed-446a-4c3d-9b43-593f12984188",
   "metadata": {
    "tags": []
   },
   "outputs": [
    {
     "name": "stderr",
     "output_type": "stream",
     "text": [
      "/home/zrh/Software/Environment/anaconda/envs/env0/lib/python3.7/site-packages/statsmodels/tsa/statespace/sarimax.py:966: UserWarning: Non-stationary starting autoregressive parameters found. Using zeros as starting parameters.\n",
      "  warn('Non-stationary starting autoregressive parameters'\n",
      "/home/zrh/Software/Environment/anaconda/envs/env0/lib/python3.7/site-packages/statsmodels/tsa/statespace/sarimax.py:978: UserWarning: Non-invertible starting MA parameters found. Using zeros as starting parameters.\n",
      "  warn('Non-invertible starting MA parameters found.'\n",
      "/home/zrh/Software/Environment/anaconda/envs/env0/lib/python3.7/site-packages/statsmodels/base/model.py:606: ConvergenceWarning: Maximum Likelihood optimization failed to converge. Check mle_retvals\n",
      "  ConvergenceWarning)\n",
      "/home/zrh/Software/Environment/anaconda/envs/env0/lib/python3.7/site-packages/statsmodels/base/model.py:606: ConvergenceWarning: Maximum Likelihood optimization failed to converge. Check mle_retvals\n",
      "  ConvergenceWarning)\n",
      "/home/zrh/Software/Environment/anaconda/envs/env0/lib/python3.7/site-packages/statsmodels/base/model.py:606: ConvergenceWarning: Maximum Likelihood optimization failed to converge. Check mle_retvals\n",
      "  ConvergenceWarning)\n",
      "/home/zrh/Software/Environment/anaconda/envs/env0/lib/python3.7/site-packages/statsmodels/base/model.py:606: ConvergenceWarning: Maximum Likelihood optimization failed to converge. Check mle_retvals\n",
      "  ConvergenceWarning)\n",
      "/home/zrh/Software/Environment/anaconda/envs/env0/lib/python3.7/site-packages/statsmodels/base/model.py:606: ConvergenceWarning: Maximum Likelihood optimization failed to converge. Check mle_retvals\n",
      "  ConvergenceWarning)\n",
      "/home/zrh/Software/Environment/anaconda/envs/env0/lib/python3.7/site-packages/statsmodels/base/model.py:606: ConvergenceWarning: Maximum Likelihood optimization failed to converge. Check mle_retvals\n",
      "  ConvergenceWarning)\n",
      "/home/zrh/Software/Environment/anaconda/envs/env0/lib/python3.7/site-packages/statsmodels/base/model.py:606: ConvergenceWarning: Maximum Likelihood optimization failed to converge. Check mle_retvals\n",
      "  ConvergenceWarning)\n",
      "/home/zrh/Software/Environment/anaconda/envs/env0/lib/python3.7/site-packages/statsmodels/base/model.py:606: ConvergenceWarning: Maximum Likelihood optimization failed to converge. Check mle_retvals\n",
      "  ConvergenceWarning)\n",
      "/home/zrh/Software/Environment/anaconda/envs/env0/lib/python3.7/site-packages/statsmodels/base/model.py:606: ConvergenceWarning: Maximum Likelihood optimization failed to converge. Check mle_retvals\n",
      "  ConvergenceWarning)\n",
      "/home/zrh/Software/Environment/anaconda/envs/env0/lib/python3.7/site-packages/statsmodels/base/model.py:606: ConvergenceWarning: Maximum Likelihood optimization failed to converge. Check mle_retvals\n",
      "  ConvergenceWarning)\n",
      "/home/zrh/Software/Environment/anaconda/envs/env0/lib/python3.7/site-packages/statsmodels/base/model.py:606: ConvergenceWarning: Maximum Likelihood optimization failed to converge. Check mle_retvals\n",
      "  ConvergenceWarning)\n",
      "/home/zrh/Software/Environment/anaconda/envs/env0/lib/python3.7/site-packages/statsmodels/base/model.py:606: ConvergenceWarning: Maximum Likelihood optimization failed to converge. Check mle_retvals\n",
      "  ConvergenceWarning)\n",
      "/home/zrh/Software/Environment/anaconda/envs/env0/lib/python3.7/site-packages/statsmodels/base/model.py:606: ConvergenceWarning: Maximum Likelihood optimization failed to converge. Check mle_retvals\n",
      "  ConvergenceWarning)\n",
      "/home/zrh/Software/Environment/anaconda/envs/env0/lib/python3.7/site-packages/statsmodels/base/model.py:606: ConvergenceWarning: Maximum Likelihood optimization failed to converge. Check mle_retvals\n",
      "  ConvergenceWarning)\n",
      "/home/zrh/Software/Environment/anaconda/envs/env0/lib/python3.7/site-packages/statsmodels/base/model.py:606: ConvergenceWarning: Maximum Likelihood optimization failed to converge. Check mle_retvals\n",
      "  ConvergenceWarning)\n",
      "/home/zrh/Software/Environment/anaconda/envs/env0/lib/python3.7/site-packages/statsmodels/base/model.py:606: ConvergenceWarning: Maximum Likelihood optimization failed to converge. Check mle_retvals\n",
      "  ConvergenceWarning)\n",
      "/home/zrh/Software/Environment/anaconda/envs/env0/lib/python3.7/site-packages/statsmodels/base/model.py:606: ConvergenceWarning: Maximum Likelihood optimization failed to converge. Check mle_retvals\n",
      "  ConvergenceWarning)\n",
      "/home/zrh/Software/Environment/anaconda/envs/env0/lib/python3.7/site-packages/statsmodels/base/model.py:606: ConvergenceWarning: Maximum Likelihood optimization failed to converge. Check mle_retvals\n",
      "  ConvergenceWarning)\n",
      "/home/zrh/Software/Environment/anaconda/envs/env0/lib/python3.7/site-packages/statsmodels/base/model.py:606: ConvergenceWarning: Maximum Likelihood optimization failed to converge. Check mle_retvals\n",
      "  ConvergenceWarning)\n",
      "/home/zrh/Software/Environment/anaconda/envs/env0/lib/python3.7/site-packages/statsmodels/base/model.py:606: ConvergenceWarning: Maximum Likelihood optimization failed to converge. Check mle_retvals\n",
      "  ConvergenceWarning)\n",
      "/home/zrh/Software/Environment/anaconda/envs/env0/lib/python3.7/site-packages/statsmodels/base/model.py:606: ConvergenceWarning: Maximum Likelihood optimization failed to converge. Check mle_retvals\n",
      "  ConvergenceWarning)\n",
      "/home/zrh/Software/Environment/anaconda/envs/env0/lib/python3.7/site-packages/statsmodels/base/model.py:606: ConvergenceWarning: Maximum Likelihood optimization failed to converge. Check mle_retvals\n",
      "  ConvergenceWarning)\n",
      "/home/zrh/Software/Environment/anaconda/envs/env0/lib/python3.7/site-packages/statsmodels/base/model.py:606: ConvergenceWarning: Maximum Likelihood optimization failed to converge. Check mle_retvals\n",
      "  ConvergenceWarning)\n",
      "/home/zrh/Software/Environment/anaconda/envs/env0/lib/python3.7/site-packages/statsmodels/base/model.py:606: ConvergenceWarning: Maximum Likelihood optimization failed to converge. Check mle_retvals\n",
      "  ConvergenceWarning)\n",
      "/home/zrh/Software/Environment/anaconda/envs/env0/lib/python3.7/site-packages/statsmodels/base/model.py:606: ConvergenceWarning: Maximum Likelihood optimization failed to converge. Check mle_retvals\n",
      "  ConvergenceWarning)\n",
      "/home/zrh/Software/Environment/anaconda/envs/env0/lib/python3.7/site-packages/statsmodels/base/model.py:606: ConvergenceWarning: Maximum Likelihood optimization failed to converge. Check mle_retvals\n",
      "  ConvergenceWarning)\n",
      "/home/zrh/Software/Environment/anaconda/envs/env0/lib/python3.7/site-packages/statsmodels/base/model.py:606: ConvergenceWarning: Maximum Likelihood optimization failed to converge. Check mle_retvals\n",
      "  ConvergenceWarning)\n",
      "/home/zrh/Software/Environment/anaconda/envs/env0/lib/python3.7/site-packages/statsmodels/base/model.py:606: ConvergenceWarning: Maximum Likelihood optimization failed to converge. Check mle_retvals\n",
      "  ConvergenceWarning)\n",
      "/home/zrh/Software/Environment/anaconda/envs/env0/lib/python3.7/site-packages/statsmodels/base/model.py:606: ConvergenceWarning: Maximum Likelihood optimization failed to converge. Check mle_retvals\n",
      "  ConvergenceWarning)\n",
      "/home/zrh/Software/Environment/anaconda/envs/env0/lib/python3.7/site-packages/statsmodels/base/model.py:606: ConvergenceWarning: Maximum Likelihood optimization failed to converge. Check mle_retvals\n",
      "  ConvergenceWarning)\n",
      "/home/zrh/Software/Environment/anaconda/envs/env0/lib/python3.7/site-packages/statsmodels/base/model.py:606: ConvergenceWarning: Maximum Likelihood optimization failed to converge. Check mle_retvals\n",
      "  ConvergenceWarning)\n",
      "/home/zrh/Software/Environment/anaconda/envs/env0/lib/python3.7/site-packages/statsmodels/base/model.py:606: ConvergenceWarning: Maximum Likelihood optimization failed to converge. Check mle_retvals\n",
      "  ConvergenceWarning)\n",
      "/home/zrh/Software/Environment/anaconda/envs/env0/lib/python3.7/site-packages/statsmodels/base/model.py:606: ConvergenceWarning: Maximum Likelihood optimization failed to converge. Check mle_retvals\n",
      "  ConvergenceWarning)\n",
      "/home/zrh/Software/Environment/anaconda/envs/env0/lib/python3.7/site-packages/statsmodels/base/model.py:606: ConvergenceWarning: Maximum Likelihood optimization failed to converge. Check mle_retvals\n",
      "  ConvergenceWarning)\n",
      "/home/zrh/Software/Environment/anaconda/envs/env0/lib/python3.7/site-packages/statsmodels/base/model.py:606: ConvergenceWarning: Maximum Likelihood optimization failed to converge. Check mle_retvals\n",
      "  ConvergenceWarning)\n",
      "/home/zrh/Software/Environment/anaconda/envs/env0/lib/python3.7/site-packages/statsmodels/base/model.py:606: ConvergenceWarning: Maximum Likelihood optimization failed to converge. Check mle_retvals\n",
      "  ConvergenceWarning)\n",
      "/home/zrh/Software/Environment/anaconda/envs/env0/lib/python3.7/site-packages/statsmodels/base/model.py:606: ConvergenceWarning: Maximum Likelihood optimization failed to converge. Check mle_retvals\n",
      "  ConvergenceWarning)\n",
      "/home/zrh/Software/Environment/anaconda/envs/env0/lib/python3.7/site-packages/statsmodels/base/model.py:606: ConvergenceWarning: Maximum Likelihood optimization failed to converge. Check mle_retvals\n",
      "  ConvergenceWarning)\n",
      "/home/zrh/Software/Environment/anaconda/envs/env0/lib/python3.7/site-packages/statsmodels/base/model.py:606: ConvergenceWarning: Maximum Likelihood optimization failed to converge. Check mle_retvals\n",
      "  ConvergenceWarning)\n",
      "/home/zrh/Software/Environment/anaconda/envs/env0/lib/python3.7/site-packages/statsmodels/base/model.py:606: ConvergenceWarning: Maximum Likelihood optimization failed to converge. Check mle_retvals\n",
      "  ConvergenceWarning)\n",
      "/home/zrh/Software/Environment/anaconda/envs/env0/lib/python3.7/site-packages/statsmodels/base/model.py:606: ConvergenceWarning: Maximum Likelihood optimization failed to converge. Check mle_retvals\n",
      "  ConvergenceWarning)\n",
      "/home/zrh/Software/Environment/anaconda/envs/env0/lib/python3.7/site-packages/statsmodels/base/model.py:606: ConvergenceWarning: Maximum Likelihood optimization failed to converge. Check mle_retvals\n",
      "  ConvergenceWarning)\n"
     ]
    },
    {
     "data": {
      "text/plain": [
       "[[635.8305005071237,\n",
       "  611.9781100119621,\n",
       "  602.6841200499531,\n",
       "  606.6035932509878,\n",
       "  611.0921702580627,\n",
       "  614.795459935772,\n",
       "  618.9430165837954,\n",
       "  623.3269550712315,\n",
       "  627.127937824166],\n",
       " [606.8555822187465,\n",
       "  609.1160762038811,\n",
       "  606.594169937402,\n",
       "  610.2895950142492,\n",
       "  614.7659949661861,\n",
       "  618.7698534846579,\n",
       "  623.2563331787804,\n",
       "  627.7287170197512,\n",
       "  630.1960477252201],\n",
       " [607.364036555503,\n",
       "  610.111210329511,\n",
       "  611.0824026827252,\n",
       "  614.7553504012515,\n",
       "  618.6394760272559,\n",
       "  617.9564838661057,\n",
       "  622.4025084430837,\n",
       "  627.933646250019,\n",
       "  628.6055057856657],\n",
       " [609.2318829034447,\n",
       "  611.3825821394404,\n",
       "  615.1814974437966,\n",
       "  618.7141092077792,\n",
       "  622.7145616772401,\n",
       "  626.8252245500441,\n",
       "  631.175251435506,\n",
       "  629.0549973468744,\n",
       "  632.1813847464852],\n",
       " [611.6628664142556,\n",
       "  615.4334166483219,\n",
       "  619.5896665532193,\n",
       "  622.9944462374492,\n",
       "  627.6683455764942,\n",
       "  629.3665538343603,\n",
       "  633.8519909403069,\n",
       "  632.4896248996164,\n",
       "  637.8840614533276],\n",
       " [614.4518389728933,\n",
       "  616.3336354506599,\n",
       "  616.6035431637414,\n",
       "  622.2127115830775,\n",
       "  624.2669994681701,\n",
       "  630.7118458597628,\n",
       "  633.3492716763116,\n",
       "  636.9561241450998,\n",
       "  640.6854780940092],\n",
       " [617.4765591871279,\n",
       "  620.2776574025532,\n",
       "  624.1668919114497,\n",
       "  625.2317333062459,\n",
       "  631.9483277978053,\n",
       "  631.6527181003624,\n",
       "  636.7760333224851,\n",
       "  640.9678870593483,\n",
       "  641.9784441376997],\n",
       " [619.6492170614349,\n",
       "  623.7798197493295,\n",
       "  624.4073231567207,\n",
       "  630.9356085557017,\n",
       "  631.4395565473225,\n",
       "  636.8503447215774,\n",
       "  640.7725279115604,\n",
       "  644.906389529925,\n",
       "  647.9509758074522],\n",
       " [623.1814814100874,\n",
       "  627.1339922127154,\n",
       "  627.3520186607552,\n",
       "  632.5411477663898,\n",
       "  636.5746242831055,\n",
       "  639.4626512809684,\n",
       "  644.1167144286459,\n",
       "  647.5014898341245,\n",
       "  651.0774036528543]]"
      ]
     },
     "execution_count": 31,
     "metadata": {},
     "output_type": "execute_result"
    }
   ],
   "source": [
    "# AIC\n",
    "aic_matrix = []\n",
    "for p in range(pmax+1):\n",
    "    tmp = []\n",
    "    for q in range(qmax+1):\n",
    "        # try:\n",
    "        tmp.append(sm.tsa.ARIMA(add_confirm_data, order=(p,1,q)).fit().bic)\n",
    "        # except:\n",
    "            # tmp.append(None)\n",
    "    aic_matrix.append(tmp)\n",
    "aic_matrix"
   ]
  },
  {
   "cell_type": "code",
   "execution_count": 32,
   "id": "cb574fcf-73da-46ff-8ad5-49575d2084ff",
   "metadata": {},
   "outputs": [
    {
     "data": {
      "text/plain": [
       "(0, 2)"
      ]
     },
     "execution_count": 32,
     "metadata": {},
     "output_type": "execute_result"
    }
   ],
   "source": [
    "p_aic, q_aic = pd.DataFrame(aic_matrix).stack().idxmin()\n",
    "p_aic, q_aic"
   ]
  },
  {
   "cell_type": "code",
   "execution_count": 33,
   "id": "8b192b63-adcc-4b12-8e94-242d5613978a",
   "metadata": {},
   "outputs": [
    {
     "data": {
      "text/html": [
       "<table class=\"simpletable\">\n",
       "<caption>SARIMAX Results</caption>\n",
       "<tr>\n",
       "  <th>Dep. Variable:</th>         <td>新增确诊</td>       <th>  No. Observations:  </th>    <td>90</td>   \n",
       "</tr>\n",
       "<tr>\n",
       "  <th>Model:</th>            <td>ARIMA(0, 1, 2)</td>  <th>  Log Likelihood     </th> <td>-294.609</td>\n",
       "</tr>\n",
       "<tr>\n",
       "  <th>Date:</th>            <td>Tue, 17 May 2022</td> <th>  AIC                </th>  <td>595.218</td>\n",
       "</tr>\n",
       "<tr>\n",
       "  <th>Time:</th>                <td>16:47:36</td>     <th>  BIC                </th>  <td>602.684</td>\n",
       "</tr>\n",
       "<tr>\n",
       "  <th>Sample:</th>                  <td>0</td>        <th>  HQIC               </th>  <td>598.228</td>\n",
       "</tr>\n",
       "<tr>\n",
       "  <th></th>                       <td> - 90</td>      <th>                     </th>     <td> </td>   \n",
       "</tr>\n",
       "<tr>\n",
       "  <th>Covariance Type:</th>        <td>opg</td>       <th>                     </th>     <td> </td>   \n",
       "</tr>\n",
       "</table>\n",
       "<table class=\"simpletable\">\n",
       "<tr>\n",
       "     <td></td>       <th>coef</th>     <th>std err</th>      <th>z</th>      <th>P>|z|</th>  <th>[0.025</th>    <th>0.975]</th>  \n",
       "</tr>\n",
       "<tr>\n",
       "  <th>ma.L1</th>  <td>   -0.7155</td> <td>    0.070</td> <td>  -10.239</td> <td> 0.000</td> <td>   -0.853</td> <td>   -0.579</td>\n",
       "</tr>\n",
       "<tr>\n",
       "  <th>ma.L2</th>  <td>    0.4134</td> <td>    0.067</td> <td>    6.131</td> <td> 0.000</td> <td>    0.281</td> <td>    0.546</td>\n",
       "</tr>\n",
       "<tr>\n",
       "  <th>sigma2</th> <td>   43.5979</td> <td>    4.773</td> <td>    9.134</td> <td> 0.000</td> <td>   34.242</td> <td>   52.953</td>\n",
       "</tr>\n",
       "</table>\n",
       "<table class=\"simpletable\">\n",
       "<tr>\n",
       "  <th>Ljung-Box (L1) (Q):</th>     <td>0.02</td> <th>  Jarque-Bera (JB):  </th> <td>13.27</td>\n",
       "</tr>\n",
       "<tr>\n",
       "  <th>Prob(Q):</th>                <td>0.88</td> <th>  Prob(JB):          </th> <td>0.00</td> \n",
       "</tr>\n",
       "<tr>\n",
       "  <th>Heteroskedasticity (H):</th> <td>2.86</td> <th>  Skew:              </th> <td>0.31</td> \n",
       "</tr>\n",
       "<tr>\n",
       "  <th>Prob(H) (two-sided):</th>    <td>0.01</td> <th>  Kurtosis:          </th> <td>4.79</td> \n",
       "</tr>\n",
       "</table><br/><br/>Warnings:<br/>[1] Covariance matrix calculated using the outer product of gradients (complex-step)."
      ],
      "text/plain": [
       "<class 'statsmodels.iolib.summary.Summary'>\n",
       "\"\"\"\n",
       "                               SARIMAX Results                                \n",
       "==============================================================================\n",
       "Dep. Variable:                   新增确诊   No. Observations:                   90\n",
       "Model:                 ARIMA(0, 1, 2)   Log Likelihood                -294.609\n",
       "Date:                Tue, 17 May 2022   AIC                            595.218\n",
       "Time:                        16:47:36   BIC                            602.684\n",
       "Sample:                             0   HQIC                           598.228\n",
       "                                 - 90                                         \n",
       "Covariance Type:                  opg                                         \n",
       "==============================================================================\n",
       "                 coef    std err          z      P>|z|      [0.025      0.975]\n",
       "------------------------------------------------------------------------------\n",
       "ma.L1         -0.7155      0.070    -10.239      0.000      -0.853      -0.579\n",
       "ma.L2          0.4134      0.067      6.131      0.000       0.281       0.546\n",
       "sigma2        43.5979      4.773      9.134      0.000      34.242      52.953\n",
       "===================================================================================\n",
       "Ljung-Box (L1) (Q):                   0.02   Jarque-Bera (JB):                13.27\n",
       "Prob(Q):                              0.88   Prob(JB):                         0.00\n",
       "Heteroskedasticity (H):               2.86   Skew:                             0.31\n",
       "Prob(H) (two-sided):                  0.01   Kurtosis:                         4.79\n",
       "===================================================================================\n",
       "\n",
       "Warnings:\n",
       "[1] Covariance matrix calculated using the outer product of gradients (complex-step).\n",
       "\"\"\""
      ]
     },
     "execution_count": 33,
     "metadata": {},
     "output_type": "execute_result"
    }
   ],
   "source": [
    "# fit model\n",
    "model = sm.tsa.ARIMA(add_confirm_data, order=(0,1,2)).fit()\n",
    "model.summary()"
   ]
  },
  {
   "cell_type": "code",
   "execution_count": 34,
   "id": "51e749d2-3923-4fe4-b0be-11f87711bbf5",
   "metadata": {},
   "outputs": [
    {
     "name": "stderr",
     "output_type": "stream",
     "text": [
      "/home/zrh/Software/Environment/anaconda/envs/env0/lib/python3.7/site-packages/ipykernel_launcher.py:5: UserWarning: Matplotlib is currently using module://matplotlib_inline.backend_inline, which is a non-GUI backend, so cannot show the figure.\n",
      "  \"\"\"\n",
      "/home/zrh/Software/Environment/anaconda/envs/env0/lib/python3.7/site-packages/statsmodels/graphics/tsaplots.py:353: FutureWarning: The default method 'yw' can produce PACF values outside of the [-1,1] interval. After 0.13, the default will change tounadjusted Yule-Walker ('ywm'). You can use this method now by setting method='ywm'.\n",
      "  FutureWarning,\n",
      "/home/zrh/Software/Environment/anaconda/envs/env0/lib/python3.7/site-packages/ipykernel_launcher.py:6: UserWarning: Matplotlib is currently using module://matplotlib_inline.backend_inline, which is a non-GUI backend, so cannot show the figure.\n",
      "  \n"
     ]
    },
    {
     "data": {
      "image/png": "[encoded data removed]",
      "text/plain": [
       "<Figure size 432x288 with 1 Axes>"
      ]
     },
     "metadata": {},
     "output_type": "display_data"
    },
    {
     "data": {
      "image/png": "[encoded data removed]",
      "text/plain": [
       "<Figure size 432x288 with 1 Axes>"
      ]
     },
     "metadata": {},
     "output_type": "display_data"
    }
   ],
   "source": [
    "# error test\n",
    "\n",
    "# autocorrelogram\n",
    "resid = model.resid\n",
    "plot_acf(resid, lags=14).show()\n",
    "plot_pacf(resid, lags=14).show()\n",
    "# plot_pacf(resid, loags=14).show()"
   ]
  },
  {
   "cell_type": "code",
   "execution_count": 35,
   "id": "3cd51661-6376-4f9f-b75c-6d23cefad51e",
   "metadata": {},
   "outputs": [
    {
     "name": "stderr",
     "output_type": "stream",
     "text": [
      "/home/zrh/Software/Environment/anaconda/envs/env0/lib/python3.7/site-packages/ipykernel_launcher.py:2: UserWarning: Matplotlib is currently using module://matplotlib_inline.backend_inline, which is a non-GUI backend, so cannot show the figure.\n",
      "  \n"
     ]
    },
    {
     "data": {
      "image/png": "[encoded data removed]",
      "text/plain": [
       "<Figure size 432x288 with 1 Axes>"
      ]
     },
     "metadata": {},
     "output_type": "display_data"
    }
   ],
   "source": [
    "# use QQ graph to test whether it is a random series\n",
    "qqplot(resid, line=\"q\", fit=True).show()"
   ]
  },
  {
   "cell_type": "code",
   "execution_count": 36,
   "id": "f1043ea8-69b8-4f34-98c9-bc026208b627",
   "metadata": {},
   "outputs": [
    {
     "name": "stdout",
     "output_type": "stream",
     "text": [
      "DW test result:  1.9525983125943847\n",
      "Ljung-Box:      lb_stat  lb_pvalue\n",
      "1  0.022605   0.880489\n"
     ]
    }
   ],
   "source": [
    "# use DW test to test whether it is a random series\n",
    "print(\"DW test result: \", sm.stats.durbin_watson(resid.values))\n",
    "\n",
    "# other ways to test\n",
    "print(\"Ljung-Box: \", acorr_ljungbox(resid, lags=1))"
   ]
  },
  {
   "cell_type": "code",
   "execution_count": 38,
   "id": "d7326c5d-a49f-4c35-a0cb-ed870bca9e8c",
   "metadata": {},
   "outputs": [
    {
     "data": {
      "text/plain": [
       "90    34.631256\n",
       "91    33.300798\n",
       "Name: predicted_mean, dtype: float64"
      ]
     },
     "execution_count": 38,
     "metadata": {},
     "output_type": "execute_result"
    }
   ],
   "source": [
    "# predict\n",
    "pre_n = 2\n",
    "last_day = train_data.新增确诊.shape[0]\n",
    "predict = pd.Series( model.forecast(pre_n), index=[last_day + i for i in range(pre_n)])\n",
    "predict"
   ]
  },
  {
   "cell_type": "code",
   "execution_count": 39,
   "id": "ef696c9d-c7f4-4e88-ab79-0f7102d88be2",
   "metadata": {},
   "outputs": [
    {
     "data": {
      "image/png": "[encoded data removed]",
      "text/plain": [
       "<Figure size 432x288 with 1 Axes>"
      ]
     },
     "metadata": {},
     "output_type": "display_data"
    }
   ],
   "source": [
    "data = pd.concat((train_data.新增确诊, predict), axis=0)\n",
    "plt.plot(pd.DataFrame(data) )\n",
    "plt.show()"
   ]
  },
  {
   "cell_type": "code",
   "execution_count": null,
   "id": "251349ce-8f39-4caf-a7d6-63686b545d39",
   "metadata": {},
   "outputs": [],
   "source": []
  }
 ],
 "metadata": {
  "kernelspec": {
   "display_name": "env0",
   "language": "python",
   "name": "env0"
  },
  "language_info": {
   "codemirror_mode": {
    "name": "ipython",
    "version": 3
   },
   "file_extension": ".py",
   "mimetype": "text/x-python",
   "name": "python",
   "nbconvert_exporter": "python",
   "pygments_lexer": "ipython3",
   "version": "3.7.11"
  }
 },
 "nbformat": 4,
 "nbformat_minor": 5
}
